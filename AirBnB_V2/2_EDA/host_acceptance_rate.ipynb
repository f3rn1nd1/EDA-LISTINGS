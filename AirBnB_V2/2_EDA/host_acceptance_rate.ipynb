{
 "cells": [
  {
   "cell_type": "markdown",
   "id": "b75c9c39",
   "metadata": {},
   "source": [
    "HOST_RESPONSE_RATE:\n",
    " - Tipo de dato\n",
    " - Cantidad de nulos\n",
    " - Cantidad de Vacios\n",
    " - Cantidad de datos unicos\n",
    " - Cantidad de datos totales"
   ]
  },
  {
   "cell_type": "code",
   "execution_count": 2,
   "id": "822775da",
   "metadata": {},
   "outputs": [
    {
     "name": "stdout",
     "output_type": "stream",
     "text": [
      "Columna 'host_acceptance_rate':\n",
      " - Tipo de dato: float64\n",
      " - Cantidad de nulos: 113087\n",
      " - Cantidad de vacíos: 0\n",
      " - Cantidad de datos únicos: 101\n",
      " - Cantidad de datos totales: 279712\n"
     ]
    }
   ],
   "source": [
    "import pandas as pd\n",
    "\n",
    "# Cargar únicamente la columna 'id' del archivo CSV\n",
    "\n",
    "file_path = \"../0_Dataset/Listings.csv\"\n",
    "data = pd.read_csv(file_path, usecols=['host_acceptance_rate'], delimiter=',', encoding='latin-1')\n",
    "\n",
    "# Verificar si la columna 'id' existe en el DataFrame\n",
    "if 'host_acceptance_rate' in data.columns:\n",
    "    # Tipo de dato\n",
    "    tipo_dato = data['host_acceptance_rate'].dtype\n",
    "    \n",
    "    # Cantidad de nulos\n",
    "    cantidad_nulos = data['host_acceptance_rate'].isna().sum()\n",
    "    \n",
    "    # Cantidad de vacíos (considerando cadenas vacías)\n",
    "    cantidad_vacios = (data['host_acceptance_rate'] == '').sum()\n",
    "    \n",
    "    # Cantidad de datos únicos\n",
    "    cantidad_unicos = data['host_acceptance_rate'].nunique()\n",
    "    \n",
    "    # Cantidad de datos totales\n",
    "    cantidad_totales = data['host_acceptance_rate'].shape[0]\n",
    "    \n",
    "    # Imprimir resultados\n",
    "    print(f\"Columna 'host_acceptance_rate':\")\n",
    "    print(f\" - Tipo de dato: {tipo_dato}\")\n",
    "    print(f\" - Cantidad de nulos: {cantidad_nulos}\")\n",
    "    print(f\" - Cantidad de vacíos: {cantidad_vacios}\")\n",
    "    print(f\" - Cantidad de datos únicos: {cantidad_unicos}\")\n",
    "    print(f\" - Cantidad de datos totales: {cantidad_totales}\")\n",
    "else:\n",
    "    print(\"La columna 'host_acceptance_rate' no existe en el DataFrame.\")"
   ]
  },
  {
   "cell_type": "code",
   "execution_count": 3,
   "id": "8d7bf734",
   "metadata": {},
   "outputs": [
    {
     "name": "stdout",
     "output_type": "stream",
     "text": [
      "Nulos: 113087\n",
      "Ceros: 11431\n",
      "Total eliminados: 124518\n"
     ]
    }
   ],
   "source": [
    "nulos = data['host_acceptance_rate'].isna().sum()\n",
    "ceros = (data['host_acceptance_rate'] == 0).sum()\n",
    "print(f\"Nulos: {nulos}\")\n",
    "print(f\"Ceros: {ceros}\")\n",
    "print(f\"Total eliminados: {nulos + ceros}\")\n"
   ]
  },
  {
   "cell_type": "code",
   "execution_count": 2,
   "id": "f031fdd9",
   "metadata": {},
   "outputs": [
    {
     "name": "stdout",
     "output_type": "stream",
     "text": [
      "count    166625.000000\n",
      "mean          0.827168\n",
      "std           0.289202\n",
      "min           0.000000\n",
      "25%           0.780000\n",
      "50%           0.980000\n",
      "75%           1.000000\n",
      "max           1.000000\n",
      "Name: host_acceptance_rate, dtype: float64\n",
      "host_acceptance_rate\n",
      "0.00    11431\n",
      "0.01       25\n",
      "0.02       14\n",
      "0.03       34\n",
      "0.04       49\n",
      "        ...  \n",
      "0.96     3287\n",
      "0.97     4523\n",
      "0.98     5085\n",
      "0.99     7227\n",
      "1.00    75555\n",
      "Name: count, Length: 101, dtype: int64\n"
     ]
    }
   ],
   "source": [
    "print(data['host_acceptance_rate'].describe())\n",
    "print(data['host_acceptance_rate'].value_counts().sort_index())"
   ]
  },
  {
   "cell_type": "markdown",
   "id": "e6b992c9",
   "metadata": {},
   "source": [
    "Analisis Cuantitativo"
   ]
  },
  {
   "cell_type": "markdown",
   "id": "b718f166",
   "metadata": {},
   "source": [
    "ANALISIS CUANTITATIVO ESCALA NATURAL"
   ]
  },
  {
   "cell_type": "markdown",
   "id": "ca187e18",
   "metadata": {},
   "source": [
    "CON OUTLIERS "
   ]
  },
  {
   "cell_type": "code",
   "execution_count": 7,
   "id": "0553c2df",
   "metadata": {},
   "outputs": [
    {
     "name": "stdout",
     "output_type": "stream",
     "text": [
      "Cantidad de valores eliminados (dropeados): 113087\n",
      "\n",
      "Análisis Cuantitativo de 'host_acceptance_rate' (escala natural, excluyendo valores 0):\n",
      " - Promedio: 0.83\n",
      " - Mínimo: 0.0\n",
      " - Máximo: 1.0\n",
      " - Desviación estándar: 0.29\n",
      " - Q1 (25%): 0.78\n",
      " - Q2 / Mediana (50%): 0.98\n",
      " - Q3 (75%): 1.0\n",
      " - Q4 (100%): 1.0\n",
      " - Varianza: 0.08363808297686119\n",
      " - Curtosis (Kurtosis): 2.3544\n",
      " - Asimetría (Skewness): -1.8638\n"
     ]
    }
   ],
   "source": [
    "# Cantidad de filas antes de aplicar el filtro\n",
    "total_antes = data['host_acceptance_rate'].shape[0]\n",
    "\n",
    "# Filtrar valores válidos: eliminar nulos y valores iguales a 0\n",
    "valores_validos = data['host_acceptance_rate'].dropna()\n",
    "\n",
    "# Cantidad de filas después de filtrar\n",
    "total_despues = valores_validos.shape[0]\n",
    "\n",
    "# Calcular cuántos valores se eliminaron (nulos o 0)\n",
    "valores_dropeados = total_antes - total_despues\n",
    "\n",
    "# Imprimir el resultado\n",
    "print(f\"Cantidad de valores eliminados (dropeados): {valores_dropeados}\")\n",
    "\n",
    "if not valores_validos.empty:\n",
    "    # Cálculo de estadísticas en escala natural\n",
    "    promedio = valores_validos.mean()\n",
    "    minimo = valores_validos.min()\n",
    "    maximo = valores_validos.max()\n",
    "    desviacion = valores_validos.std()\n",
    "    q1 = valores_validos.quantile(0.25)\n",
    "    q2 = valores_validos.quantile(0.50)  # Mediana\n",
    "    q3 = valores_validos.quantile(0.75)\n",
    "    q4 = valores_validos.quantile(1.0)\n",
    "    varianza = valores_validos.var()\n",
    "    kurtosis = valores_validos.kurtosis()\n",
    "    skewness = valores_validos.skew()\n",
    "\n",
    "    # Mostrar resultados\n",
    "    print(\"\\nAnálisis Cuantitativo de 'host_acceptance_rate' (escala natural, excluyendo valores 0):\")\n",
    "    print(f\" - Promedio: {promedio:.2f}\")\n",
    "    print(f\" - Mínimo: {minimo}\")\n",
    "    print(f\" - Máximo: {maximo}\")\n",
    "    print(f\" - Desviación estándar: {desviacion:.2f}\")\n",
    "    print(f\" - Q1 (25%): {q1}\")\n",
    "    print(f\" - Q2 / Mediana (50%): {q2}\")\n",
    "    print(f\" - Q3 (75%): {q3}\")\n",
    "    print(f\" - Q4 (100%): {q4}\")\n",
    "    print(f\" - Varianza: {varianza}\")\n",
    "    print(f\" - Curtosis (Kurtosis): {kurtosis:.4f}\")\n",
    "    print(f\" - Asimetría (Skewness): {skewness:.4f}\")\n",
    "else:\n",
    "    print(\"No hay suficientes datos válidos para realizar un análisis cuantitativo.\")\n"
   ]
  },
  {
   "cell_type": "code",
   "execution_count": 11,
   "id": "ded2d4e0",
   "metadata": {},
   "outputs": [
    {
     "data": {
      "image/png": "[encoded data removed]",
      "text/plain": [
       "<Figure size 600x600 with 1 Axes>"
      ]
     },
     "metadata": {},
     "output_type": "display_data"
    }
   ],
   "source": [
    "import matplotlib.pyplot as plt\n",
    "import seaborn as sns\n",
    "import pandas as pd\n",
    "\n",
    "\n",
    "\n",
    "# Filtrar valores válidos (excluye solo nulos)\n",
    "valores_validos = data['host_acceptance_rate'].dropna()\n",
    "\n",
    "# Dibujar boxplot\n",
    "plt.figure(figsize=(6, 6))\n",
    "sns.boxplot(y=valores_validos, color='skyblue')\n",
    "plt.title(\"Boxplot de 'host_acceptance_rate'\")\n",
    "plt.ylabel(\"Tasa de aceptación\")\n",
    "plt.tight_layout()\n",
    "plt.show()\n"
   ]
  },
  {
   "cell_type": "markdown",
   "id": "0c9a434c",
   "metadata": {},
   "source": [
    "Según los análisis realizados sobre la variable host_acceptance_rate, los datos presentan una distribución concentrada en valores altos, con una mediana de 0.98 y un promedio de 0.83. Aunque no se detectan valores atípicos superiores debido al rango natural de la variable (entre 0 y 1), sí se observa una pequeña proporción de valores inferiores a 0.45 que, estadísticamente, podrían considerarse atípicos. Sin embargo, estos valores reflejan tasas reales de aceptación bajas por parte de algunos anfitriones, por lo que se consideran válidos. Se recomienda no eliminarlos del conjunto de datos, pero sí tenerlos en cuenta en los análisis posteriores, ya que podrían representar comportamientos específicos que afecten la experiencia del usuario o el desempeño de los modelos predictivos."
   ]
  },
  {
   "cell_type": "markdown",
   "id": "9357f79e",
   "metadata": {},
   "source": [
    "ANALISIS CUANTITATIVO SIN OUTLIERS PARA ANALIZAR DIFERENCIAS CON OUTLIERS Y SIN OUTLIERS"
   ]
  },
  {
   "cell_type": "code",
   "execution_count": 3,
   "id": "0d532937",
   "metadata": {},
   "outputs": [
    {
     "name": "stdout",
     "output_type": "stream",
     "text": [
      "Cantidad de outliers detectados: 17953\n",
      "\n",
      "Análisis Cuantitativo de 'host_acceptance_rate' (escala natural, sin outliers):\n",
      " - Promedio: 0.95\n",
      " - Mínimo: 0.65\n",
      " - Máximo: 1.0\n",
      " - Desviación estándar: 0.09\n",
      " - Q1 (25%): 0.93\n",
      " - Q2 / Mediana (50%): 1.0\n",
      " - Q3 (75%): 1.0\n",
      " - Varianza: 0.0080\n",
      " - Curtosis (Kurtosis): 2.1376\n",
      " - Asimetría (Skewness): -1.7939\n"
     ]
    }
   ],
   "source": [
    "# 1. Filtrar valores válidos: eliminar nulos y valores 0\n",
    "valores_validos = data['host_acceptance_rate'].dropna()\n",
    "valores_validos = valores_validos[valores_validos > 0]\n",
    "\n",
    "# 2. Cálculo de IQR y límites\n",
    "q1 = valores_validos.quantile(0.25)\n",
    "q3 = valores_validos.quantile(0.75)\n",
    "iqr = q3 - q1\n",
    "limite_inferior = q1 - 1.5 * iqr\n",
    "limite_superior = q3 + 1.5 * iqr\n",
    "\n",
    "# 3. Identificar outliers\n",
    "outliers = valores_validos[(valores_validos < limite_inferior) | (valores_validos > limite_superior)]\n",
    "cantidad_outliers = outliers.shape[0]\n",
    "\n",
    "# 4. Eliminar outliers\n",
    "valores_sin_outliers = valores_validos[(valores_validos >= limite_inferior) & (valores_validos <= limite_superior)]\n",
    "\n",
    "# 5. Calcular estadísticas descriptivas sin outliers\n",
    "if not valores_sin_outliers.empty:\n",
    "    promedio = valores_sin_outliers.mean()\n",
    "    minimo = valores_sin_outliers.min()\n",
    "    maximo = valores_sin_outliers.max()\n",
    "    desviacion = valores_sin_outliers.std()\n",
    "    q1 = valores_sin_outliers.quantile(0.25)\n",
    "    q2 = valores_sin_outliers.quantile(0.50)\n",
    "    q3 = valores_sin_outliers.quantile(0.75)\n",
    "    varianza = valores_sin_outliers.var()\n",
    "    kurtosis = valores_sin_outliers.kurtosis()\n",
    "    skewness = valores_sin_outliers.skew()\n",
    "\n",
    "    # 6. Mostrar resultados\n",
    "    print(f\"Cantidad de outliers detectados: {cantidad_outliers}\\n\")\n",
    "    print(\"Análisis Cuantitativo de 'host_acceptance_rate' (escala natural, sin outliers):\")\n",
    "    print(f\" - Promedio: {promedio:.2f}\")\n",
    "    print(f\" - Mínimo: {minimo}\")\n",
    "    print(f\" - Máximo: {maximo}\")\n",
    "    print(f\" - Desviación estándar: {desviacion:.2f}\")\n",
    "    print(f\" - Q1 (25%): {q1}\")\n",
    "    print(f\" - Q2 / Mediana (50%): {q2}\")\n",
    "    print(f\" - Q3 (75%): {q3}\")\n",
    "    print(f\" - Varianza: {varianza:.4f}\")\n",
    "    print(f\" - Curtosis (Kurtosis): {kurtosis:.4f}\")\n",
    "    print(f\" - Asimetría (Skewness): {skewness:.4f}\")\n",
    "else:\n",
    "    print(\"No hay suficientes datos válidos para realizar el análisis.\")\n"
   ]
  },
  {
   "cell_type": "code",
   "execution_count": 5,
   "id": "78780843",
   "metadata": {},
   "outputs": [
    {
     "data": {
      "image/png": "[encoded data removed]",
      "text/plain": [
       "<Figure size 600x600 with 1 Axes>"
      ]
     },
     "metadata": {},
     "output_type": "display_data"
    }
   ],
   "source": [
    "import matplotlib.pyplot as plt\n",
    "import seaborn as sns\n",
    "\n",
    "# Reutilizamos los datos filtrados (sin nulos, sin ceros, sin outliers)\n",
    "valores_validos = data['host_acceptance_rate'].dropna()\n",
    "valores_validos = valores_validos[valores_validos > 0]\n",
    "\n",
    "# Cálculo del IQR\n",
    "q1 = valores_validos.quantile(0.25)\n",
    "q3 = valores_validos.quantile(0.75)\n",
    "iqr = q3 - q1\n",
    "limite_inferior = q1 - 1.5 * iqr\n",
    "limite_superior = q3 + 1.5 * iqr\n",
    "\n",
    "# Eliminar outliers\n",
    "valores_sin_outliers = valores_validos[(valores_validos >= limite_inferior) & (valores_validos <= limite_superior)]\n",
    "\n",
    "# Crear el boxplot\n",
    "plt.figure(figsize=(6, 6))\n",
    "sns.boxplot(y=valores_sin_outliers, color=\"lightblue\")\n",
    "plt.title(\"Boxplot de 'host_acceptance_rate' (sin outliers)\")\n",
    "plt.ylabel(\"Tasa de aceptación\")\n",
    "plt.tight_layout()\n",
    "plt.show()\n"
   ]
  }
 ],
 "metadata": {
  "kernelspec": {
   "display_name": "base",
   "language": "python",
   "name": "python3"
  },
  "language_info": {
   "codemirror_mode": {
    "name": "ipython",
    "version": 3
   },
   "file_extension": ".py",
   "mimetype": "text/x-python",
   "name": "python",
   "nbconvert_exporter": "python",
   "pygments_lexer": "ipython3",
   "version": "3.12.3"
  }
 },
 "nbformat": 4,
 "nbformat_minor": 5
}
