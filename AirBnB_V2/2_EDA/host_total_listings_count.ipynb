{
 "cells": [
  {
   "cell_type": "markdown",
   "id": "dcae216e",
   "metadata": {},
   "source": [
    "Total de anuncios"
   ]
  },
  {
   "cell_type": "markdown",
   "id": "4d669840",
   "metadata": {},
   "source": [
    "host_since:\n",
    " - Tipo de dato\n",
    " - Cantidad de nulos\n",
    " - Cantidad de Vacios\n",
    " - Cantidad de datos unicos\n",
    " - Cantidad de datos totales"
   ]
  },
  {
   "cell_type": "code",
   "execution_count": 1,
   "id": "6cc9c143",
   "metadata": {},
   "outputs": [
    {
     "name": "stdout",
     "output_type": "stream",
     "text": [
      "Columna 'host_total_listings_count':\n",
      " - Tipo de dato: float64\n",
      " - Cantidad de nulos: 165\n",
      " - Cantidad de vacíos: 0\n",
      " - Cantidad de datos únicos: 206\n",
      " - Cantidad de datos totales: 279712\n",
      "\n",
      "Descripción estadística de la columna:\n",
      "count    279547.000000\n",
      "mean         24.581612\n",
      "std         284.041143\n",
      "min           0.000000\n",
      "25%           1.000000\n",
      "50%           1.000000\n",
      "75%           4.000000\n",
      "max        7235.000000\n",
      "Name: host_total_listings_count, dtype: float64\n"
     ]
    }
   ],
   "source": [
    "import pandas as pd\n",
    "\n",
    "# Cargar únicamente la columna 'city' del archivo CSV\n",
    "file_path = \"../0_Dataset/Listings.csv\"\n",
    "data = pd.read_csv(file_path, usecols=['host_total_listings_count'], delimiter=',', encoding='latin-1')\n",
    "\n",
    "# Verificar si la columna 'city' existe en el DataFrame\n",
    "if 'host_total_listings_count' in data.columns:\n",
    "    # Tipo de dato\n",
    "    tipo_dato = data['host_total_listings_count'].dtype\n",
    "    \n",
    "    # Cantidad de nulos\n",
    "    cantidad_nulos = data['host_total_listings_count'].isna().sum()\n",
    "    \n",
    "    # Cantidad de vacíos (considerando cadenas vacías)\n",
    "    cantidad_vacios = (data['host_total_listings_count'] == '').sum()\n",
    "    \n",
    "    # Cantidad de datos únicos\n",
    "    cantidad_unicos = data['host_total_listings_count'].nunique()\n",
    "    \n",
    "    # Cantidad de datos totales\n",
    "    cantidad_totales = data['host_total_listings_count'].shape[0]\n",
    "    \n",
    "    # Imprimir resultados\n",
    "    print(f\"Columna 'host_total_listings_count':\")\n",
    "    print(f\" - Tipo de dato: {tipo_dato}\")\n",
    "    print(f\" - Cantidad de nulos: {cantidad_nulos}\")\n",
    "    print(f\" - Cantidad de vacíos: {cantidad_vacios}\")\n",
    "    print(f\" - Cantidad de datos únicos: {cantidad_unicos}\")\n",
    "    print(f\" - Cantidad de datos totales: {cantidad_totales}\")\n",
    "    print(\"\\nDescripción estadística de la columna:\")\n",
    "    print(data['host_total_listings_count'].describe())\n",
    "\n",
    "else:\n",
    "    print(\"La columna 'host_total_listings_count' no existe en el DataFrame.\")\n",
    "    print(data['host_total_listings_count'].value_counts())\n",
    "    print(data['host_total_listings_count'].unique())\n"
   ]
  },
  {
   "cell_type": "markdown",
   "id": "fb67eef6",
   "metadata": {},
   "source": [
    "Analisis Cuantitaivo:\n",
    "* Promedio\n",
    "* Min\n",
    "* Max\n",
    "* Desviacion Estandar\n",
    "* Q1\n",
    "* Q2\n",
    "* Q3\n",
    "* Q4\n",
    "* Mediana\n",
    "* Kurtosis\n",
    "* Skewness"
   ]
  },
  {
   "cell_type": "markdown",
   "id": "feba9f30",
   "metadata": {},
   "source": [
    "ANALISIS CUANTITATIVO A ESCALA REAL CON OUTLIERS Y CON 0 POR LA POSIBILIDAD DEL QUE EL ANFITRION NO CUENTE CON ANUNCIOS"
   ]
  },
  {
   "cell_type": "code",
   "execution_count": 4,
   "id": "cd7524af",
   "metadata": {},
   "outputs": [
    {
     "name": "stdout",
     "output_type": "stream",
     "text": [
      "Cantidad de valores eliminados (dropeados): 165\n",
      "\n",
      "Análisis Cuantitativo de 'host_total_listings_count' (escala natural,sin excluir valores 0):\n",
      " - Promedio: 24.58\n",
      " - Mínimo: 0.0\n",
      " - Máximo: 7235.0\n",
      " - Desviación estándar: 284.04\n",
      " - Q1 (25%): 1.0\n",
      " - Q2 / Mediana (50%): 1.0\n",
      " - Q3 (75%): 4.0\n",
      " - Q4 (100%): 7235.0\n",
      " - Varianza: 80679.37093989148\n",
      " - Curtosis (Kurtosis): 586.3057\n",
      " - Asimetría (Skewness): 23.4901\n"
     ]
    }
   ],
   "source": [
    "# Cantidad de filas antes de aplicar el filtro\n",
    "total_antes = data['host_total_listings_count'].shape[0]\n",
    "\n",
    "# Filtrar valores válidos: eliminar nulos y valores iguales a 0\n",
    "valores_validos = data['host_total_listings_count'].dropna()\n",
    "\n",
    "# Cantidad de filas después de filtrar\n",
    "total_despues = valores_validos.shape[0]\n",
    "\n",
    "# Calcular cuántos valores se eliminaron (nulos o 0)\n",
    "valores_dropeados = total_antes - total_despues\n",
    "\n",
    "# Imprimir el resultado\n",
    "print(f\"Cantidad de valores eliminados (dropeados): {valores_dropeados}\")\n",
    "\n",
    "if not valores_validos.empty:\n",
    "    # Cálculo de estadísticas en escala natural\n",
    "    promedio = valores_validos.mean()\n",
    "    minimo = valores_validos.min()\n",
    "    maximo = valores_validos.max()\n",
    "    desviacion = valores_validos.std()\n",
    "    q1 = valores_validos.quantile(0.25)\n",
    "    q2 = valores_validos.quantile(0.50)  # Mediana\n",
    "    q3 = valores_validos.quantile(0.75)\n",
    "    q4 = valores_validos.quantile(1.0)\n",
    "    varianza = valores_validos.var()\n",
    "    kurtosis = valores_validos.kurtosis()\n",
    "    skewness = valores_validos.skew()\n",
    "\n",
    "    # Mostrar resultados\n",
    "    print(\"\\nAnálisis Cuantitativo de 'host_total_listings_count' (escala natural,sin excluir valores 0):\")\n",
    "    print(f\" - Promedio: {promedio:.2f}\")\n",
    "    print(f\" - Mínimo: {minimo}\")\n",
    "    print(f\" - Máximo: {maximo}\")\n",
    "    print(f\" - Desviación estándar: {desviacion:.2f}\")\n",
    "    print(f\" - Q1 (25%): {q1}\")\n",
    "    print(f\" - Q2 / Mediana (50%): {q2}\")\n",
    "    print(f\" - Q3 (75%): {q3}\")\n",
    "    print(f\" - Q4 (100%): {q4}\")\n",
    "    print(f\" - Varianza: {varianza}\")\n",
    "    print(f\" - Curtosis (Kurtosis): {kurtosis:.4f}\")\n",
    "    print(f\" - Asimetría (Skewness): {skewness:.4f}\")\n",
    "else:\n",
    "    print(\"No hay suficientes datos válidos para realizar un análisis cuantitativo.\")\n"
   ]
  },
  {
   "cell_type": "markdown",
   "id": "08a94eb8",
   "metadata": {},
   "source": [
    "ANALISIS CUANTITIVO SIN OUTLIERS Y CON 0"
   ]
  },
  {
   "cell_type": "code",
   "execution_count": 11,
   "id": "46b61fa3",
   "metadata": {},
   "outputs": [
    {
     "name": "stdout",
     "output_type": "stream",
     "text": [
      "Cantidad de outliers detectados: 42065\n",
      "\n",
      "Análisis Cuantitativo de 'host_total_listings_count' (escala natural, sin outliers):\n",
      " - Promedio: 1.79\n",
      " - Mínimo: 0.0\n",
      " - Máximo: 8.0\n",
      " - Desviación estándar: 1.75\n",
      " - Q1 (25%): 1.0\n",
      " - Q2 / Mediana (50%): 1.0\n",
      " - Q3 (75%): 2.0\n",
      " - Varianza: 3.0528\n",
      " - Curtosis (Kurtosis): 2.7074\n",
      " - Asimetría (Skewness): 1.7386\n"
     ]
    }
   ],
   "source": [
    "# 1. Filtrar valores válidos: eliminar nulos y valores 0\n",
    "valores_validos = data['host_total_listings_count'].dropna()\n",
    "\n",
    "# 2. Cálculo de IQR y límites\n",
    "q1 = valores_validos.quantile(0.25)\n",
    "q3 = valores_validos.quantile(0.75)\n",
    "iqr = q3 - q1\n",
    "limite_inferior = q1 - 1.5 * iqr\n",
    "limite_superior = q3 + 1.5 * iqr\n",
    "\n",
    "# 3. Identificar outliers\n",
    "outliers = valores_validos[(valores_validos < limite_inferior) | (valores_validos > limite_superior)]\n",
    "cantidad_outliers = outliers.shape[0]\n",
    "\n",
    "# 4. Eliminar outliers\n",
    "valores_sin_outliers = valores_validos[(valores_validos >= limite_inferior) & (valores_validos <= limite_superior)]\n",
    "\n",
    "# 5. Calcular estadísticas descriptivas sin outliers\n",
    "if not valores_sin_outliers.empty:\n",
    "    promedio = valores_sin_outliers.mean()\n",
    "    minimo = valores_sin_outliers.min()\n",
    "    maximo = valores_sin_outliers.max()\n",
    "    desviacion = valores_sin_outliers.std()\n",
    "    q1 = valores_sin_outliers.quantile(0.25)\n",
    "    q2 = valores_sin_outliers.quantile(0.50)\n",
    "    q3 = valores_sin_outliers.quantile(0.75)\n",
    "    varianza = valores_sin_outliers.var()\n",
    "    kurtosis = valores_sin_outliers.kurtosis()\n",
    "    skewness = valores_sin_outliers.skew()\n",
    "\n",
    "    # 6. Mostrar resultados\n",
    "    print(f\"Cantidad de outliers detectados: {cantidad_outliers}\\n\")\n",
    "    print(\"Análisis Cuantitativo de 'host_total_listings_count' (escala natural, sin outliers):\")\n",
    "    print(f\" - Promedio: {promedio:.2f}\")\n",
    "    print(f\" - Mínimo: {minimo}\")\n",
    "    print(f\" - Máximo: {maximo}\")\n",
    "    print(f\" - Desviación estándar: {desviacion:.2f}\")\n",
    "    print(f\" - Q1 (25%): {q1}\")\n",
    "    print(f\" - Q2 / Mediana (50%): {q2}\")\n",
    "    print(f\" - Q3 (75%): {q3}\")\n",
    "    print(f\" - Varianza: {varianza:.4f}\")\n",
    "    print(f\" - Curtosis (Kurtosis): {kurtosis:.4f}\")\n",
    "    print(f\" - Asimetría (Skewness): {skewness:.4f}\")\n",
    "else:\n",
    "    print(\"No hay suficientes datos válidos para realizar el análisis.\")\n"
   ]
  },
  {
   "cell_type": "code",
   "execution_count": 14,
   "id": "f6283f4e",
   "metadata": {},
   "outputs": [
    {
     "data": {
      "image/png": "[encoded data removed]",
      "text/plain": [
       "<Figure size 600x600 with 1 Axes>"
      ]
     },
     "metadata": {},
     "output_type": "display_data"
    }
   ],
   "source": [
    "import matplotlib.pyplot as plt\n",
    "import seaborn as sns\n",
    "\n",
    "# Reutilizamos los datos filtrados (sin nulos, sin ceros, sin outliers)\n",
    "valores_validos = data['host_total_listings_count'].dropna()\n",
    "\n",
    "# Cálculo del IQR\n",
    "q1 = valores_validos.quantile(0.25)\n",
    "q3 = valores_validos.quantile(0.75)\n",
    "iqr = q3 - q1\n",
    "limite_inferior = q1 - 1.5 * iqr\n",
    "limite_superior = q3 + 1.5 * iqr\n",
    "\n",
    "# Eliminar outliers\n",
    "valores_sin_outliers = valores_validos[(valores_validos >= limite_inferior) & (valores_validos <= limite_superior)]\n",
    "\n",
    "# Crear el boxplot\n",
    "plt.figure(figsize=(6, 6))\n",
    "sns.boxplot(y=valores_sin_outliers, color=\"lightblue\")\n",
    "plt.title(\"Boxplot de host_total_listings_count' (sin outliers)\")\n",
    "plt.ylabel(\"Cantidad de anuncios\")\n",
    "plt.tight_layout()\n",
    "plt.show()\n"
   ]
  }
 ],
 "metadata": {
  "kernelspec": {
   "display_name": "base",
   "language": "python",
   "name": "python3"
  },
  "language_info": {
   "codemirror_mode": {
    "name": "ipython",
    "version": 3
   },
   "file_extension": ".py",
   "mimetype": "text/x-python",
   "name": "python",
   "nbconvert_exporter": "python",
   "pygments_lexer": "ipython3",
   "version": "3.12.3"
  }
 },
 "nbformat": 4,
 "nbformat_minor": 5
}
