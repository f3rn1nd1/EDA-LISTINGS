{
 "cells": [
  {
   "cell_type": "markdown",
   "id": "ea37e91c",
   "metadata": {},
   "source": [
    "Maximum_nights\n",
    " - Tipo de dato\n",
    " - Cantidad de nulos\n",
    " - Cantidad de Vacios\n",
    " - Cantidad de datos unicos\n",
    " - Cantidad de datos totales"
   ]
  },
  {
   "cell_type": "code",
   "execution_count": 4,
   "id": "17121a63",
   "metadata": {},
   "outputs": [
    {
     "name": "stdout",
     "output_type": "stream",
     "text": [
      "Columna 'listing_id':\n",
      " - Tipo de dato: int64\n",
      " - Cantidad de nulos: 0\n",
      " - Cantidad de vacíos: 0\n",
      " - Cantidad de datos únicos: 279712\n",
      " - Cantidad de datos totales: 279712\n",
      "listing_id\n",
      "281420      1\n",
      "18186014    1\n",
      "40727670    1\n",
      "39400416    1\n",
      "34469158    1\n",
      "           ..\n",
      "31212668    1\n",
      "35135411    1\n",
      "40446442    1\n",
      "40497833    1\n",
      "40219504    1\n",
      "Name: count, Length: 279712, dtype: int64\n",
      "[  281420  3705183  4082273 ... 38683356 39659000 40219504]\n"
     ]
    }
   ],
   "source": [
    "import pandas as pd\n",
    "\n",
    "# Cargar únicamente la columna 'Review_scores_accuracy' del archivo CSV\n",
    "file_path = \"../0_Dataset/Listings.csv\"\n",
    "data = pd.read_csv(file_path, usecols=['listing_id'], delimiter=',', encoding='latin-1')\n",
    "\n",
    "# Verificar si la columna 'Review_scores_accuracy' existe en el DataFrame\n",
    "if 'listing_id' in data.columns:\n",
    "    # Tipo de dato\n",
    "    tipo_dato = data['listing_id'].dtype\n",
    "    \n",
    "    # Cantidad de nulos\n",
    "    cantidad_nulos = data['listing_id'].isna().sum()\n",
    "    \n",
    "    # Cantidad de vacíos (considerando cadenas vacías)\n",
    "    cantidad_vacios = (data['listing_id'] == '').sum()\n",
    "    \n",
    "    # Cantidad de datos únicos\n",
    "    cantidad_unicos = data['listing_id'].nunique()\n",
    "    \n",
    "    # Cantidad de datos totales\n",
    "    cantidad_totales = data['listing_id'].shape[0]\n",
    "    \n",
    "    # Imprimir resultados\n",
    "    print(f\"Columna 'listing_id':\")\n",
    "    print(f\" - Tipo de dato: {tipo_dato}\")\n",
    "    print(f\" - Cantidad de nulos: {cantidad_nulos}\")\n",
    "    print(f\" - Cantidad de vacíos: {cantidad_vacios}\")\n",
    "    print(f\" - Cantidad de datos únicos: {cantidad_unicos}\")\n",
    "    print(f\" - Cantidad de datos totales: {cantidad_totales}\")\n",
    "else:\n",
    "    print(\"La columna 'listing_id' no existe en el DataFrame.\")\n",
    "\n",
    "print(data['listing_id'].value_counts())\n",
    "print(data['listing_id'].unique())"
   ]
  },
  {
   "cell_type": "markdown",
   "id": "3d94ab85",
   "metadata": {},
   "source": [
    "Analisis Cuantitaivo:\n",
    "* Promedio\n",
    "* Min\n",
    "* Max\n",
    "* Desviacion Estandar\n",
    "* Q1\n",
    "* Q2\n",
    "* Q3\n",
    "* Q4\n",
    "* Mediana\n",
    "* Kurtosis\n",
    "* Skewness"
   ]
  },
  {
   "cell_type": "code",
   "execution_count": 3,
   "id": "e05b540f",
   "metadata": {},
   "outputs": [
    {
     "name": "stdout",
     "output_type": "stream",
     "text": [
      "Cantidad de valores eliminados (dropeados): 0\n",
      "\n",
      "Análisis Cuantitativo de 'listing_id':\n",
      " - Promedio: 26381955.49\n",
      " - Mínimo: 2577\n",
      " - Máximo: 48343530\n",
      " - Desviación estándar: 14425758.69\n",
      " - Varianza: 208102513746882.16\n",
      " - Q1 (25%): 13844618.75\n",
      " - Q2 / Mediana (50%): 27670985.0\n",
      " - Q3 (75%): 39784850.75\n",
      " - Q4 (100%): 48343530.0\n",
      " - Mediana: 27670985.0\n",
      " - Curtosis (Kurtosis): -1.2527\n",
      " - Asimetría (Skewness): -0.1931\n"
     ]
    }
   ],
   "source": [
    "# Cantidad de filas antes de aplicar dropna\n",
    "total_antes = data['listing_id'].shape[0]\n",
    "\n",
    "# Filtrar valores válidos\n",
    "valores_validos = data['listing_id'].dropna()\n",
    "\n",
    "# Cantidad de filas después de aplicar dropna\n",
    "total_despues = valores_validos.shape[0]\n",
    "\n",
    "# Calcular cuántos valores se dropearon\n",
    "valores_dropeados = total_antes - total_despues\n",
    "\n",
    "# Imprimir el resultado\n",
    "print(f\"Cantidad de valores eliminados (dropeados): {valores_dropeados}\")\n",
    "\n",
    "if not valores_validos.empty:\n",
    "    # Cálculo de estadísticas sin transformar a escala relativa\n",
    "    promedio = valores_validos.mean()\n",
    "    minimo = valores_validos.min()\n",
    "    maximo = valores_validos.max()\n",
    "    desviacion = valores_validos.std()\n",
    "    varianza = valores_validos.var()\n",
    "    q1 = valores_validos.quantile(0.25)\n",
    "    q2 = valores_validos.quantile(0.50)  # Mediana\n",
    "    q3 = valores_validos.quantile(0.75)\n",
    "    q4 = valores_validos.quantile(1.0)\n",
    "    mediana = valores_validos.median()\n",
    "    kurtosis = valores_validos.kurtosis()\n",
    "    skewness = valores_validos.skew()\n",
    "\n",
    "    # Mostrar resultados\n",
    "    print(\"\\nAnálisis Cuantitativo de 'listing_id':\")\n",
    "    print(f\" - Promedio: {promedio:.2f}\")\n",
    "    print(f\" - Mínimo: {minimo}\")\n",
    "    print(f\" - Máximo: {maximo}\")\n",
    "    print(f\" - Desviación estándar: {desviacion:.2f}\")\n",
    "    print(f\" - Varianza: {varianza:.2f}\")\n",
    "    print(f\" - Q1 (25%): {q1}\")\n",
    "    print(f\" - Q2 / Mediana (50%): {q2}\")\n",
    "    print(f\" - Q3 (75%): {q3}\")\n",
    "    print(f\" - Q4 (100%): {q4}\")\n",
    "    print(f\" - Mediana: {mediana}\")\n",
    "    print(f\" - Curtosis (Kurtosis): {kurtosis:.4f}\")\n",
    "    print(f\" - Asimetría (Skewness): {skewness:.4f}\")\n",
    "else:\n",
    "    print(\"No hay suficientes datos válidos para realizar un análisis cuantitativo.\")"
   ]
  },
  {
   "cell_type": "code",
   "execution_count": 5,
   "id": "84facb49",
   "metadata": {},
   "outputs": [
    {
     "name": "stdout",
     "output_type": "stream",
     "text": [
      "Total de listing_id únicos: 279712\n",
      "listing_id\n",
      "281420      1\n",
      "18186014    1\n",
      "40727670    1\n",
      "39400416    1\n",
      "34469158    1\n",
      "Name: count, dtype: int64\n",
      "Cantidad de registros completamente duplicados: 0\n"
     ]
    }
   ],
   "source": [
    "# Ver cuántos hosts únicos hay\n",
    "print(\"Total de listing_id únicos:\", data['listing_id'].nunique())\n",
    "\n",
    "# Ver cuántas veces se repite cada host\n",
    "repetidos = data['listing_id'].value_counts()\n",
    "print(repetidos.head())  # ver los más repetidos\n",
    "\n",
    "# Verificar duplicados exactos (todas las columnas)\n",
    "duplicados = data.duplicated()\n",
    "print(\"Cantidad de registros completamente duplicados:\", duplicados.sum())"
   ]
  }
 ],
 "metadata": {
  "kernelspec": {
   "display_name": "base",
   "language": "python",
   "name": "python3"
  },
  "language_info": {
   "codemirror_mode": {
    "name": "ipython",
    "version": 3
   },
   "file_extension": ".py",
   "mimetype": "text/x-python",
   "name": "python",
   "nbconvert_exporter": "python",
   "pygments_lexer": "ipython3",
   "version": "3.12.3"
  }
 },
 "nbformat": 4,
 "nbformat_minor": 5
}
