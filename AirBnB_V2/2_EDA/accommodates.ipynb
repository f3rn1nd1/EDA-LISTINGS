{
 "cells": [
  {
   "cell_type": "markdown",
   "id": "7e84a447",
   "metadata": {},
   "source": [
    "ACCOMMODATES:\n",
    " - Tipo de dato\n",
    " - Cantidad de nulos\n",
    " - Cantidad de Vacios\n",
    " - Cantidad de datos unicos\n",
    " - Cantidad de datos totales"
   ]
  },
  {
   "cell_type": "code",
   "execution_count": null,
   "id": "e2a1bf90",
   "metadata": {},
   "outputs": [
    {
     "name": "stdout",
     "output_type": "stream",
     "text": [
      "Columna 'accommodates':\n",
      " - Tipo de dato: int64\n",
      " - Cantidad de nulos: 0\n",
      " - Cantidad de vacíos: 0\n",
      " - Cantidad de datos únicos: 17\n",
      " - Cantidad de datos totales: 279712\n"
     ]
    }
   ],
   "source": [
    "import pandas as pd\n",
    "\n",
    "# Cargar únicamente la columna 'id' del archivo CSV\n",
    "file_path = \"../0_Dataset/Listings.csv\"\n",
    "data = pd.read_csv(file_path, usecols=['accommodates'], delimiter=',', encoding='latin-1')\n",
    "\n",
    "\n",
    "\n",
    "\n",
    "# Verificar si la columna 'id' existe en el DataFrame\n",
    "if 'accommodates' in data.columns:\n",
    "    # Tipo de dato\n",
    "    tipo_dato = data['accommodates'].dtype\n",
    "    \n",
    "    # Cantidad de nulos\n",
    "    cantidad_nulos = data['accommodates'].isna().sum()\n",
    "    \n",
    "    # Cantidad de vacíos (considerando cadenas vacías)\n",
    "    cantidad_vacios = (data['accommodates'] == '').sum()\n",
    "    \n",
    "    # Cantidad de datos únicos\n",
    "    cantidad_unicos = data['accommodates'].nunique()\n",
    "    \n",
    "    # Cantidad de datos totales\n",
    "    cantidad_totales = data['accommodates'].shape[0]\n",
    "    \n",
    "    # Imprimir resultados\n",
    "    print(f\"Columna 'accommodates':\")\n",
    "    print(f\" - Tipo de dato: {tipo_dato}\")\n",
    "    print(f\" - Cantidad de nulos: {cantidad_nulos}\")\n",
    "    print(f\" - Cantidad de vacíos: {cantidad_vacios}\")\n",
    "    print(f\" - Cantidad de datos únicos: {cantidad_unicos}\")\n",
    "    print(f\" - Cantidad de datos totales: {cantidad_totales}\")\n",
    "else:\n",
    "    print(\"La columna 'accommodates' no existe en el DataFrame.\")"
   ]
  },
  {
   "cell_type": "code",
   "execution_count": 6,
   "id": "77127d89",
   "metadata": {},
   "outputs": [
    {
     "name": "stdout",
     "output_type": "stream",
     "text": [
      "count    279712.000000\n",
      "mean          3.288736\n",
      "std           2.133379\n",
      "min           0.000000\n",
      "25%           2.000000\n",
      "50%           2.000000\n",
      "75%           4.000000\n",
      "max          16.000000\n",
      "Name: accommodates, dtype: float64\n",
      "accommodates\n",
      "0         85\n",
      "1      25813\n",
      "2     118332\n",
      "3      27936\n",
      "4      57260\n",
      "5      13527\n",
      "6      19455\n",
      "7       3697\n",
      "8       6514\n",
      "9       1140\n",
      "10      2630\n",
      "11       367\n",
      "12      1052\n",
      "13       197\n",
      "14       331\n",
      "15       214\n",
      "16      1162\n",
      "Name: count, dtype: int64\n"
     ]
    }
   ],
   "source": [
    "print(data['accommodates'].describe())\n",
    "print(data['accommodates'].value_counts().sort_index())"
   ]
  },
  {
   "cell_type": "markdown",
   "id": "61928737",
   "metadata": {},
   "source": [
    "Analisis Cuantitaivo:\n",
    "* Promedio\n",
    "* Min\n",
    "* Max\n",
    "* Desviacion Estandar\n",
    "* Q1\n",
    "* Q2\n",
    "* Q3\n",
    "* Q4\n",
    "* Mediana\n",
    "* Kurtosis\n",
    "* Skewness"
   ]
  },
  {
   "cell_type": "markdown",
   "id": "2f0220ee",
   "metadata": {},
   "source": [
    "ANALISIS A ESCALA REAL CON OUTLIERS Y VALORES MAYORES A 0 \n"
   ]
  },
  {
   "cell_type": "code",
   "execution_count": 10,
   "id": "4a792da0",
   "metadata": {},
   "outputs": [
    {
     "name": "stdout",
     "output_type": "stream",
     "text": [
      "Cantidad de valores eliminados (dropeados): 85\n",
      "\n",
      "Análisis Cuantitativo de 'accommodates' (escala natural, excluyendo valores 0):\n",
      " - Promedio: 3.29\n",
      " - Mínimo: 1\n",
      " - Máximo: 16\n",
      " - Desviación estándar: 2.13\n",
      " - Q1 (25%): 2.0\n",
      " - Q2 / Mediana (50%): 2.0\n",
      " - Q3 (75%): 4.0\n",
      " - Q4 (100%): 16.0\n",
      " - Varianza: 4.549398736913467\n",
      " - Curtosis (Kurtosis): 7.4502\n",
      " - Asimetría (Skewness): 2.1994\n"
     ]
    }
   ],
   "source": [
    "# Cantidad de filas antes de aplicar el filtro\n",
    "total_antes = data['accommodates'].shape[0]\n",
    "\n",
    "# Filtrar valores válidos: eliminar nulos y valores iguales a 0\n",
    "valores_validos = data['accommodates'].dropna()\n",
    "valores_validos = valores_validos[valores_validos > 0]\n",
    "\n",
    "# Cantidad de filas después de filtrar\n",
    "total_despues = valores_validos.shape[0]\n",
    "\n",
    "# Calcular cuántos valores se eliminaron (nulos o 0)\n",
    "valores_dropeados = total_antes - total_despues\n",
    "\n",
    "# Imprimir el resultado\n",
    "print(f\"Cantidad de valores eliminados (dropeados): {valores_dropeados}\")\n",
    "\n",
    "if not valores_validos.empty:\n",
    "    # Cálculo de estadísticas en escala natural\n",
    "    promedio = valores_validos.mean()\n",
    "    minimo = valores_validos.min()\n",
    "    maximo = valores_validos.max()\n",
    "    desviacion = valores_validos.std()\n",
    "    q1 = valores_validos.quantile(0.25)\n",
    "    q2 = valores_validos.quantile(0.50)  # Mediana\n",
    "    q3 = valores_validos.quantile(0.75)\n",
    "    q4 = valores_validos.quantile(1.0)\n",
    "    varianza = valores_validos.var()\n",
    "    kurtosis = valores_validos.kurtosis()\n",
    "    skewness = valores_validos.skew()\n",
    "\n",
    "    # Mostrar resultados\n",
    "    print(\"\\nAnálisis Cuantitativo de 'accommodates' (escala natural, excluyendo valores 0):\")\n",
    "    print(f\" - Promedio: {promedio:.2f}\")\n",
    "    print(f\" - Mínimo: {minimo}\")\n",
    "    print(f\" - Máximo: {maximo}\")\n",
    "    print(f\" - Desviación estándar: {desviacion:.2f}\")\n",
    "    print(f\" - Q1 (25%): {q1}\")\n",
    "    print(f\" - Q2 / Mediana (50%): {q2}\")\n",
    "    print(f\" - Q3 (75%): {q3}\")\n",
    "    print(f\" - Q4 (100%): {q4}\")\n",
    "    print(f\" - Varianza: {varianza}\")\n",
    "    print(f\" - Curtosis (Kurtosis): {kurtosis:.4f}\")\n",
    "    print(f\" - Asimetría (Skewness): {skewness:.4f}\")\n",
    "else:\n",
    "    print(\"No hay suficientes datos válidos para realizar un análisis cuantitativo.\")\n"
   ]
  },
  {
   "cell_type": "markdown",
   "id": "57e804d0",
   "metadata": {},
   "source": [
    "ANALISIS CUANTITATIVOS SIN OUTLIERS"
   ]
  },
  {
   "cell_type": "code",
   "execution_count": 13,
   "id": "4fc05431",
   "metadata": {},
   "outputs": [
    {
     "name": "stdout",
     "output_type": "stream",
     "text": [
      "Cantidad de outliers detectados: 13607\n",
      "\n",
      "Análisis Cuantitativo de 'accommodates' (escala natural, sin outliers):\n",
      " - Promedio: 2.95\n",
      " - Mínimo: 1\n",
      " - Máximo: 7\n",
      " - Desviación estándar: 1.46\n",
      " - Q1 (25%): 2.0\n",
      " - Q2 / Mediana (50%): 2.0\n",
      " - Q3 (75%): 4.0\n",
      " - Varianza: 2.1300\n",
      " - Curtosis (Kurtosis): -0.1430\n",
      " - Asimetría (Skewness): 0.8252\n"
     ]
    }
   ],
   "source": [
    "# 1. Filtrar valores válidos: eliminar nulos y valores 0\n",
    "valores_validos = data['accommodates'].dropna()\n",
    "valores_validos = valores_validos[valores_validos > 0]\n",
    "\n",
    "# 2. Cálculo de IQR y límites\n",
    "q1 = valores_validos.quantile(0.25)\n",
    "q3 = valores_validos.quantile(0.75)\n",
    "iqr = q3 - q1\n",
    "limite_inferior = q1 - 1.5 * iqr\n",
    "limite_superior = q3 + 1.5 * iqr\n",
    "\n",
    "# 3. Identificar outliers\n",
    "outliers = valores_validos[(valores_validos < limite_inferior) | (valores_validos > limite_superior)]\n",
    "cantidad_outliers = outliers.shape[0]\n",
    "\n",
    "# 4. Eliminar outliers\n",
    "valores_sin_outliers = valores_validos[(valores_validos >= limite_inferior) & (valores_validos <= limite_superior)]\n",
    "\n",
    "# 5. Calcular estadísticas descriptivas sin outliers\n",
    "if not valores_sin_outliers.empty:\n",
    "    promedio = valores_sin_outliers.mean()\n",
    "    minimo = valores_sin_outliers.min()\n",
    "    maximo = valores_sin_outliers.max()\n",
    "    desviacion = valores_sin_outliers.std()\n",
    "    q1 = valores_sin_outliers.quantile(0.25)\n",
    "    q2 = valores_sin_outliers.quantile(0.50)\n",
    "    q3 = valores_sin_outliers.quantile(0.75)\n",
    "    varianza = valores_sin_outliers.var()\n",
    "    kurtosis = valores_sin_outliers.kurtosis()\n",
    "    skewness = valores_sin_outliers.skew()\n",
    "\n",
    "    # 6. Mostrar resultados\n",
    "    print(f\"Cantidad de outliers detectados: {cantidad_outliers}\\n\")\n",
    "    print(\"Análisis Cuantitativo de 'accommodates' (escala natural, sin outliers):\")\n",
    "    print(f\" - Promedio: {promedio:.2f}\")\n",
    "    print(f\" - Mínimo: {minimo}\")\n",
    "    print(f\" - Máximo: {maximo}\")\n",
    "    print(f\" - Desviación estándar: {desviacion:.2f}\")\n",
    "    print(f\" - Q1 (25%): {q1}\")\n",
    "    print(f\" - Q2 / Mediana (50%): {q2}\")\n",
    "    print(f\" - Q3 (75%): {q3}\")\n",
    "    print(f\" - Varianza: {varianza:.4f}\")\n",
    "    print(f\" - Curtosis (Kurtosis): {kurtosis:.4f}\")\n",
    "    print(f\" - Asimetría (Skewness): {skewness:.4f}\")\n",
    "else:\n",
    "    print(\"No hay suficientes datos válidos para realizar el análisis.\")\n"
   ]
  },
  {
   "cell_type": "code",
   "execution_count": 12,
   "id": "63bbb78f",
   "metadata": {},
   "outputs": [
    {
     "data": {
      "image/png": "[encoded data removed]",
      "text/plain": [
       "<Figure size 600x600 with 1 Axes>"
      ]
     },
     "metadata": {},
     "output_type": "display_data"
    }
   ],
   "source": [
    "import matplotlib.pyplot as plt\n",
    "import seaborn as sns\n",
    "\n",
    "# Reutilizamos los datos filtrados (sin nulos, sin ceros, sin outliers)\n",
    "valores_validos = data['accommodates'].dropna()\n",
    "valores_validos = valores_validos[valores_validos > 0]\n",
    "\n",
    "# Cálculo del IQR\n",
    "q1 = valores_validos.quantile(0.25)\n",
    "q3 = valores_validos.quantile(0.75)\n",
    "iqr = q3 - q1\n",
    "limite_inferior = q1 - 1.5 * iqr\n",
    "limite_superior = q3 + 1.5 * iqr\n",
    "\n",
    "# Eliminar outliers\n",
    "valores_sin_outliers = valores_validos[(valores_validos >= limite_inferior) & (valores_validos <= limite_superior)]\n",
    "\n",
    "# Crear el boxplot\n",
    "plt.figure(figsize=(6, 6))\n",
    "sns.boxplot(y=valores_sin_outliers, color=\"lightblue\")\n",
    "plt.title(\"Boxplot de 'accomodates' (sin outliers)\")\n",
    "plt.ylabel(\"Cantidad de huéspedes\")\n",
    "plt.tight_layout()\n",
    "plt.show()\n"
   ]
  }
 ],
 "metadata": {
  "kernelspec": {
   "display_name": "base",
   "language": "python",
   "name": "python3"
  },
  "language_info": {
   "codemirror_mode": {
    "name": "ipython",
    "version": 3
   },
   "file_extension": ".py",
   "mimetype": "text/x-python",
   "name": "python",
   "nbconvert_exporter": "python",
   "pygments_lexer": "ipython3",
   "version": "3.12.3"
  }
 },
 "nbformat": 4,
 "nbformat_minor": 5
}
