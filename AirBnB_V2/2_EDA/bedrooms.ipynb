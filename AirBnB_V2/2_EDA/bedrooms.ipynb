{
 "cells": [
  {
   "cell_type": "markdown",
   "id": "103b8d08",
   "metadata": {},
   "source": [
    "Bedrooms\n",
    " - Tipo de dato\n",
    " - Cantidad de nulos\n",
    " - Cantidad de Vacios\n",
    " - Cantidad de datos unicos\n",
    " - Cantidad de datos totales"
   ]
  },
  {
   "cell_type": "code",
   "execution_count": 8,
   "id": "5d5041e8",
   "metadata": {},
   "outputs": [
    {
     "name": "stdout",
     "output_type": "stream",
     "text": [
      "Columna 'bedrooms':\n",
      " - Tipo de dato: float64\n",
      " - Cantidad de nulos: 29435\n",
      " - Cantidad de vacíos: 0\n",
      " - Cantidad de datos únicos: 39\n",
      " - Cantidad de datos totales: 279712\n"
     ]
    }
   ],
   "source": [
    "import pandas as pd\n",
    "\n",
    "file_path = \"../0_Dataset/Listings.csv\"\n",
    "data = pd.read_csv(file_path, usecols=['bedrooms'], delimiter=',', encoding='latin-1')\n",
    "\n",
    "# Verificar si la columna 'bedrooms' existe en el DataFrame\n",
    "if 'bedrooms' in data.columns:\n",
    "    # Tipo de dato\n",
    "    tipo_dato = data['bedrooms'].dtype\n",
    "    \n",
    "    # Cantidad de nulos\n",
    "    cantidad_nulos = data['bedrooms'].isna().sum()\n",
    "    \n",
    "    # Cantidad de vacíos (considerando cadenas vacías)\n",
    "    cantidad_vacios = (data['bedrooms'] == '').sum()\n",
    "    \n",
    "    # Cantidad de datos únicos\n",
    "    cantidad_unicos = data['bedrooms'].nunique()\n",
    "    \n",
    "    # Cantidad de datos totales\n",
    "    cantidad_totales = data['bedrooms'].shape[0]\n",
    "    \n",
    "    # Imprimir resultados\n",
    "    print(f\"Columna 'bedrooms':\")\n",
    "    print(f\" - Tipo de dato: {tipo_dato}\")\n",
    "    print(f\" - Cantidad de nulos: {cantidad_nulos}\")\n",
    "    print(f\" - Cantidad de vacíos: {cantidad_vacios}\")\n",
    "    print(f\" - Cantidad de datos únicos: {cantidad_unicos}\")\n",
    "    print(f\" - Cantidad de datos totales: {cantidad_totales}\")\n",
    "else:\n",
    "    print(\"La columna 'bedrooms' no existe en el DataFrame.\")"
   ]
  },
  {
   "cell_type": "markdown",
   "id": "f3c7396a",
   "metadata": {},
   "source": [
    "Analisis Cuantitaivo:\n",
    "* Promedio\n",
    "* Min\n",
    "* Max\n",
    "* Desviacion Estandar\n",
    "* Q1\n",
    "* Q2\n",
    "* Q3\n",
    "* Q4\n",
    "* Mediana\n",
    "* Kurtosis\n",
    "* Skewness"
   ]
  },
  {
   "cell_type": "markdown",
   "id": "ab0c34f8",
   "metadata": {},
   "source": [
    "Dividir en 10"
   ]
  },
  {
   "cell_type": "markdown",
   "id": "2524a097",
   "metadata": {},
   "source": [
    "ANALISIS ESCALA NORMAL"
   ]
  },
  {
   "cell_type": "code",
   "execution_count": 6,
   "id": "8cf7e61f",
   "metadata": {},
   "outputs": [
    {
     "name": "stdout",
     "output_type": "stream",
     "text": [
      "Cantidad de valores eliminados (dropeados): 29435\n",
      "\n",
      "Análisis Cuantitativo de 'bedrooms' (escala natural, excluyendo valores 0):\n",
      " - Promedio: 1.52\n",
      " - Mínimo: 1.0\n",
      " - Máximo: 50.0\n",
      " - Desviación estándar: 1.15\n",
      " - Q1 (25%): 1.0\n",
      " - Q2 / Mediana (50%): 1.0\n",
      " - Q3 (75%): 2.0\n",
      " - Q4 (100%): 50.0\n",
      " - Varianza: 1.3295923401779792\n",
      " - Curtosis (Kurtosis): 428.8930\n",
      " - Asimetría (Skewness): 13.2134\n"
     ]
    }
   ],
   "source": [
    "# Cantidad de filas antes de aplicar el filtro\n",
    "total_antes = data['bedrooms'].shape[0]\n",
    "\n",
    "# Filtrar valores válidos: eliminar nulos y valores iguales a 0\n",
    "valores_validos = data['bedrooms'].dropna()\n",
    "valores_validos = valores_validos[valores_validos > 0]\n",
    "\n",
    "# Cantidad de filas después de filtrar\n",
    "total_despues = valores_validos.shape[0]\n",
    "\n",
    "# Calcular cuántos valores se eliminaron (nulos o 0)\n",
    "valores_dropeados = total_antes - total_despues\n",
    "\n",
    "# Imprimir el resultado\n",
    "print(f\"Cantidad de valores eliminados (dropeados): {valores_dropeados}\")\n",
    "\n",
    "if not valores_validos.empty:\n",
    "    # Cálculo de estadísticas en escala natural\n",
    "    promedio = valores_validos.mean()\n",
    "    minimo = valores_validos.min()\n",
    "    maximo = valores_validos.max()\n",
    "    desviacion = valores_validos.std()\n",
    "    q1 = valores_validos.quantile(0.25)\n",
    "    q2 = valores_validos.quantile(0.50)  # Mediana\n",
    "    q3 = valores_validos.quantile(0.75)\n",
    "    q4 = valores_validos.quantile(1.0)\n",
    "    varianza = valores_validos.var()\n",
    "    kurtosis = valores_validos.kurtosis()\n",
    "    skewness = valores_validos.skew()\n",
    "\n",
    "    # Mostrar resultados\n",
    "    print(\"\\nAnálisis Cuantitativo de 'bedrooms' (escala natural, excluyendo valores 0):\")\n",
    "    print(f\" - Promedio: {promedio:.2f}\")\n",
    "    print(f\" - Mínimo: {minimo}\")\n",
    "    print(f\" - Máximo: {maximo}\")\n",
    "    print(f\" - Desviación estándar: {desviacion:.2f}\")\n",
    "    print(f\" - Q1 (25%): {q1}\")\n",
    "    print(f\" - Q2 / Mediana (50%): {q2}\")\n",
    "    print(f\" - Q3 (75%): {q3}\")\n",
    "    print(f\" - Q4 (100%): {q4}\")\n",
    "    print(f\" - Varianza: {varianza}\")\n",
    "    print(f\" - Curtosis (Kurtosis): {kurtosis:.4f}\")\n",
    "    print(f\" - Asimetría (Skewness): {skewness:.4f}\")\n",
    "else:\n",
    "    print(\"No hay suficientes datos válidos para realizar un análisis cuantitativo.\")\n"
   ]
  },
  {
   "cell_type": "markdown",
   "id": "011b8021",
   "metadata": {},
   "source": [
    "SIN OUTLIERS"
   ]
  },
  {
   "cell_type": "code",
   "execution_count": 9,
   "id": "acebe009",
   "metadata": {},
   "outputs": [
    {
     "name": "stdout",
     "output_type": "stream",
     "text": [
      "Cantidad de outliers detectados: 10207\n",
      "\n",
      "Análisis Cuantitativo de 'bedrooms' (escala natural, sin outliers):\n",
      " - Promedio: 1.37\n",
      " - Mínimo: 1.0\n",
      " - Máximo: 3.0\n",
      " - Desviación estándar: 0.62\n",
      " - Q1 (25%): 1.0\n",
      " - Q2 / Mediana (50%): 1.0\n",
      " - Q3 (75%): 2.0\n",
      " - Varianza: 0.3870\n",
      " - Curtosis (Kurtosis): 0.9664\n",
      " - Asimetría (Skewness): 1.4692\n"
     ]
    }
   ],
   "source": [
    "# 1. Filtrar valores válidos: eliminar nulos y valores 0\n",
    "valores_validos = data['bedrooms'].dropna()\n",
    "valores_validos = valores_validos[valores_validos > 0]\n",
    "\n",
    "# 2. Cálculo de IQR y límites\n",
    "q1 = valores_validos.quantile(0.25)\n",
    "q3 = valores_validos.quantile(0.75)\n",
    "iqr = q3 - q1\n",
    "limite_inferior = q1 - 1.5 * iqr\n",
    "limite_superior = q3 + 1.5 * iqr\n",
    "\n",
    "# 3. Identificar outliers\n",
    "outliers = valores_validos[(valores_validos < limite_inferior) | (valores_validos > limite_superior)]\n",
    "cantidad_outliers = outliers.shape[0]\n",
    "\n",
    "# 4. Eliminar outliers\n",
    "valores_sin_outliers = valores_validos[(valores_validos >= limite_inferior) & (valores_validos <= limite_superior)]\n",
    "\n",
    "# 5. Calcular estadísticas descriptivas sin outliers\n",
    "if not valores_sin_outliers.empty:\n",
    "    promedio = valores_sin_outliers.mean()\n",
    "    minimo = valores_sin_outliers.min()\n",
    "    maximo = valores_sin_outliers.max()\n",
    "    desviacion = valores_sin_outliers.std()\n",
    "    q1 = valores_sin_outliers.quantile(0.25)\n",
    "    q2 = valores_sin_outliers.quantile(0.50)\n",
    "    q3 = valores_sin_outliers.quantile(0.75)\n",
    "    varianza = valores_sin_outliers.var()\n",
    "    kurtosis = valores_sin_outliers.kurtosis()\n",
    "    skewness = valores_sin_outliers.skew()\n",
    "\n",
    "    # 6. Mostrar resultados\n",
    "    print(f\"Cantidad de outliers detectados: {cantidad_outliers}\\n\")\n",
    "    print(\"Análisis Cuantitativo de 'bedrooms' (escala natural, sin outliers):\")\n",
    "    print(f\" - Promedio: {promedio:.2f}\")\n",
    "    print(f\" - Mínimo: {minimo}\")\n",
    "    print(f\" - Máximo: {maximo}\")\n",
    "    print(f\" - Desviación estándar: {desviacion:.2f}\")\n",
    "    print(f\" - Q1 (25%): {q1}\")\n",
    "    print(f\" - Q2 / Mediana (50%): {q2}\")\n",
    "    print(f\" - Q3 (75%): {q3}\")\n",
    "    print(f\" - Varianza: {varianza:.4f}\")\n",
    "    print(f\" - Curtosis (Kurtosis): {kurtosis:.4f}\")\n",
    "    print(f\" - Asimetría (Skewness): {skewness:.4f}\")\n",
    "else:\n",
    "    print(\"No hay suficientes datos válidos para realizar el análisis.\")\n"
   ]
  },
  {
   "cell_type": "code",
   "execution_count": 10,
   "id": "8c241575",
   "metadata": {},
   "outputs": [
    {
     "data": {
      "image/png": "[encoded data removed]",
      "text/plain": [
       "<Figure size 600x600 with 1 Axes>"
      ]
     },
     "metadata": {},
     "output_type": "display_data"
    }
   ],
   "source": [
    "import matplotlib.pyplot as plt\n",
    "import seaborn as sns\n",
    "\n",
    "# Reutilizamos los datos filtrados (sin nulos, sin ceros, sin outliers)\n",
    "valores_validos = data['bedrooms'].dropna()\n",
    "valores_validos = valores_validos[valores_validos > 0]\n",
    "\n",
    "# Cálculo del IQR\n",
    "q1 = valores_validos.quantile(0.25)\n",
    "q3 = valores_validos.quantile(0.75)\n",
    "iqr = q3 - q1\n",
    "limite_inferior = q1 - 1.5 * iqr\n",
    "limite_superior = q3 + 1.5 * iqr\n",
    "\n",
    "# Eliminar outliers\n",
    "valores_sin_outliers = valores_validos[(valores_validos >= limite_inferior) & (valores_validos <= limite_superior)]\n",
    "\n",
    "# Crear el boxplot\n",
    "plt.figure(figsize=(6, 6))\n",
    "sns.boxplot(y=valores_sin_outliers, color=\"lightblue\")\n",
    "plt.title(\"Boxplot de 'bedrooms' (sin outliers)\")\n",
    "plt.ylabel(\"Cantidad de habitaciones\")\n",
    "plt.tight_layout()\n",
    "plt.show()\n"
   ]
  },
  {
   "cell_type": "code",
   "execution_count": 4,
   "id": "cabb92f2",
   "metadata": {},
   "outputs": [
    {
     "name": "stdout",
     "output_type": "stream",
     "text": [
      "Nulos: 29435\n",
      "Ceros: 0\n",
      "Total eliminados: 29435\n"
     ]
    }
   ],
   "source": [
    "nulos = data['bedrooms'].isna().sum()\n",
    "ceros = (data['bedrooms'] == 0).sum()\n",
    "print(f\"Nulos: {nulos}\")\n",
    "print(f\"Ceros: {ceros}\")\n",
    "print(f\"Total eliminados: {nulos + ceros}\")\n"
   ]
  }
 ],
 "metadata": {
  "kernelspec": {
   "display_name": "base",
   "language": "python",
   "name": "python3"
  },
  "language_info": {
   "codemirror_mode": {
    "name": "ipython",
    "version": 3
   },
   "file_extension": ".py",
   "mimetype": "text/x-python",
   "name": "python",
   "nbconvert_exporter": "python",
   "pygments_lexer": "ipython3",
   "version": "3.12.3"
  }
 },
 "nbformat": 4,
 "nbformat_minor": 5
}
