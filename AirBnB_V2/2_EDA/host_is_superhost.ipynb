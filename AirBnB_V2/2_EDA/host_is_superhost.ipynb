{
 "cells": [
  {
   "cell_type": "markdown",
   "id": "86e43391",
   "metadata": {},
   "source": [
    "ID:\n",
    " - Tipo de dato\n",
    " - Cantidad de nulos\n",
    " - Cantidad de Vacios\n",
    " - Cantidad de datos unicos\n",
    " - Cantidad de datos totales"
   ]
  },
  {
   "cell_type": "code",
   "execution_count": 2,
   "id": "a9d49a43",
   "metadata": {},
   "outputs": [
    {
     "name": "stdout",
     "output_type": "stream",
     "text": [
      "Columna 'host_is_superhost':\n",
      " - Tipo de dato: object\n",
      " - Cantidad de nulos: 165\n",
      " - Cantidad de vacíos: 0\n",
      " - Cantidad de datos únicos: 2\n",
      " - Cantidad de datos totales: 279712\n"
     ]
    }
   ],
   "source": [
    "import pandas as pd\n",
    "\n",
    "# Cargar únicamente la columna 'id' del archivo CSV\n",
    "file_path = \"../0_Dataset/Listings.csv\"\n",
    "data = pd.read_csv(file_path, usecols=['host_is_superhost'], delimiter=',', encoding='latin-1')\n",
    "\n",
    "\n",
    "\n",
    "# Verificar si la columna 'id' existe en el DataFrame\n",
    "if 'host_is_superhost' in data.columns:\n",
    "    # Tipo de dato\n",
    "    tipo_dato = data['host_is_superhost'].dtype\n",
    "    \n",
    "    # Cantidad de nulos\n",
    "    cantidad_nulos = data['host_is_superhost'].isna().sum()\n",
    "    \n",
    "    # Cantidad de vacíos (considerando cadenas vacías)\n",
    "    cantidad_vacios = (data['host_is_superhost'] == '').sum()\n",
    "    \n",
    "    # Cantidad de datos únicos\n",
    "    cantidad_unicos = data['host_is_superhost'].nunique()\n",
    "    \n",
    "    # Cantidad de datos totales\n",
    "    cantidad_totales = data['host_is_superhost'].shape[0]\n",
    "    \n",
    "    # Imprimir resultados\n",
    "    print(f\"Columna 'host_is_superhost':\")\n",
    "    print(f\" - Tipo de dato: {tipo_dato}\")\n",
    "    print(f\" - Cantidad de nulos: {cantidad_nulos}\")\n",
    "    print(f\" - Cantidad de vacíos: {cantidad_vacios}\")\n",
    "    print(f\" - Cantidad de datos únicos: {cantidad_unicos}\")\n",
    "    print(f\" - Cantidad de datos totales: {cantidad_totales}\")\n",
    "else:\n",
    "    print(\"La columna 'host_is_superhost' no existe en el DataFrame.\")"
   ]
  },
  {
   "cell_type": "code",
   "execution_count": 2,
   "id": "1ff9885d",
   "metadata": {},
   "outputs": [
    {
     "name": "stdout",
     "output_type": "stream",
     "text": [
      "Columna 'host_is_superhost':\n",
      " - Moda: f\n",
      "\n",
      " - Cantidad por variable:\n",
      "   f: 229294\n",
      "   t: 50253\n",
      "\n",
      " - Porcentaje por variable:\n",
      "   f: 81.98%\n",
      "   t: 17.97%\n"
     ]
    }
   ],
   "source": [
    "if 'host_is_superhost' in data.columns: \n",
    "    # Moda\n",
    "    moda = data['host_is_superhost'].mode()[0]\n",
    "    \n",
    "    # Cantidad por variable\n",
    "    cantidad_por_variable = data['host_is_superhost'].value_counts()\n",
    "    \n",
    "    # Porcentaje por variable\n",
    "    porcentaje_por_variable = (cantidad_por_variable / cantidad_totales) * 100\n",
    "    \n",
    "    # Imprimir resultados formateados\n",
    "    print(f\"Columna 'host_is_superhost':\")\n",
    "    print(f\" - Moda: {moda}\\n\")\n",
    "    print(\" - Cantidad por variable:\")\n",
    "    for valor, cantidad in cantidad_por_variable.items():\n",
    "        print(f\"   {valor}: {cantidad}\")\n",
    "    print(\"\\n - Porcentaje por variable:\")\n",
    "    for valor, porcentaje in porcentaje_por_variable.items():\n",
    "        print(f\"   {valor}: {porcentaje:.2f}%\")\n",
    "else:\n",
    "    print(\"La columna 'host_is_superhost' no existe en el DataFrame.\")"
   ]
  },
  {
   "cell_type": "code",
   "execution_count": 3,
   "id": "82c1c3bc",
   "metadata": {},
   "outputs": [
    {
     "name": "stdout",
     "output_type": "stream",
     "text": [
      "Columna 'host_is_superhost':\n",
      " - Moda: f\n",
      "\n",
      " - Cantidad por variable:\n",
      "   f: 229294\n",
      "   t: 50253\n",
      "\n",
      " - Porcentaje por variable (con base en datos válidos):\n",
      "   f: 82.02%\n",
      "   t: 17.98%\n"
     ]
    }
   ],
   "source": [
    "if 'host_is_superhost' in data.columns: \n",
    "    # Moda\n",
    "    moda = data['host_is_superhost'].mode()[0]\n",
    "\n",
    "    # Cantidad por variable\n",
    "    cantidad_por_variable = data['host_is_superhost'].value_counts()\n",
    "\n",
    "    # Calcular datos válidos (totales - nulos - vacíos)\n",
    "    datos_validos = cantidad_totales - cantidad_nulos - cantidad_vacios\n",
    "\n",
    "    # Porcentaje por variable usando solo datos válidos\n",
    "    porcentaje_por_variable = (cantidad_por_variable / datos_validos) * 100\n",
    "\n",
    "    # Imprimir resultados formateados\n",
    "    print(f\"Columna 'host_is_superhost':\")\n",
    "    print(f\" - Moda: {moda}\\n\")\n",
    "    print(\" - Cantidad por variable:\")\n",
    "    for valor, cantidad in cantidad_por_variable.items():\n",
    "        print(f\"   {valor}: {cantidad}\")\n",
    "    \n",
    "    print(\"\\n - Porcentaje por variable (con base en datos válidos):\")\n",
    "    for valor, porcentaje in porcentaje_por_variable.items():\n",
    "        print(f\"   {valor}: {porcentaje:.2f}%\")\n",
    "else:\n",
    "    print(\"La columna 'host_is_superhost' no existe en el DataFrame.\")\n"
   ]
  },
  {
   "cell_type": "code",
   "execution_count": 3,
   "id": "41a26565",
   "metadata": {},
   "outputs": [
    {
     "data": {
      "image/png": "[encoded data removed]",
      "text/plain": [
       "<Figure size 600x600 with 1 Axes>"
      ]
     },
     "metadata": {},
     "output_type": "display_data"
    }
   ],
   "source": [
    "import matplotlib.pyplot as plt\n",
    "\n",
    "if 'host_is_superhost' in data.columns:\n",
    "    # Cantidad por variable\n",
    "    cantidad_por_variable = data['host_is_superhost'].value_counts()\n",
    "    \n",
    "    # Crear gráfico de tarta\n",
    "    plt.figure(figsize=(6, 6))\n",
    "    cantidad_por_variable.plot.pie(\n",
    "        autopct='%1.1f%%', \n",
    "        labels=[ 'No superhost (f)','Superhost (t)'], \n",
    "        colors=['lightcoral', 'lightskyblue'], \n",
    "        startangle=90, \n",
    "        explode=(0, 0)  # Resaltar el primer segmento\n",
    "    )\n",
    "    plt.title('Anfitriones que son super Anfitriones')\n",
    "    plt.ylabel('')  # Eliminar etiqueta del eje Y\n",
    "    plt.show()"
   ]
  }
 ],
 "metadata": {
  "kernelspec": {
   "display_name": "base",
   "language": "python",
   "name": "python3"
  },
  "language_info": {
   "codemirror_mode": {
    "name": "ipython",
    "version": 3
   },
   "file_extension": ".py",
   "mimetype": "text/x-python",
   "name": "python",
   "nbconvert_exporter": "python",
   "pygments_lexer": "ipython3",
   "version": "3.12.3"
  }
 },
 "nbformat": 4,
 "nbformat_minor": 5
}
