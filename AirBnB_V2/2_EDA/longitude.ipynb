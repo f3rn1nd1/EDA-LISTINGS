{
 "cells": [
  {
   "cell_type": "code",
   "execution_count": null,
   "id": "b407bd65",
   "metadata": {},
   "outputs": [],
   "source": [
    "# Análisis de la columna: longitude\n",
    "\n",
    "# Aquí puedes agregar tu análisis para la columna 'longitude'"
   ]
  },
  {
   "cell_type": "markdown",
   "id": "ea37e91c",
   "metadata": {},
   "source": [
    "Longitude\n",
    " - Tipo de dato\n",
    " - Cantidad de nulos\n",
    " - Cantidad de Vacios\n",
    " - Cantidad de datos unicos\n",
    " - Cantidad de datos totales"
   ]
  },
  {
   "cell_type": "code",
   "execution_count": 1,
   "id": "17121a63",
   "metadata": {},
   "outputs": [
    {
     "name": "stdout",
     "output_type": "stream",
     "text": [
      "Columna 'longitude':\n",
      " - Tipo de dato: float64\n",
      " - Cantidad de nulos: 0\n",
      " - Cantidad de vacíos: 0\n",
      " - Cantidad de datos únicos: 118021\n",
      " - Cantidad de datos totales: 279712\n",
      "longitude\n",
      "-73.97249     68\n",
      " 114.16968    42\n",
      "-73.99371     39\n",
      "-73.98611     33\n",
      " 2.28526      28\n",
      "              ..\n",
      " 12.48826      1\n",
      " 28.93417      1\n",
      " 100.50404     1\n",
      " 100.49439     1\n",
      " 2.40858       1\n",
      "Name: count, Length: 118021, dtype: int64\n",
      "[2.33343 2.34515 2.31712 ... 2.31016 2.40844 2.40858]\n"
     ]
    }
   ],
   "source": [
    "import pandas as pd\n",
    "\n",
    "# Cargar únicamente la columna 'Review_scores_accuracy' del archivo CSV\n",
    "file_path = \"../0_Dataset/Listings.csv\"\n",
    "data = pd.read_csv(file_path, usecols=['longitude'], delimiter=',', encoding='latin-1')\n",
    "\n",
    "# Verificar si la columna 'Review_scores_accuracy' existe en el DataFrame\n",
    "if 'longitude' in data.columns:\n",
    "    # Tipo de dato\n",
    "    tipo_dato = data['longitude'].dtype\n",
    "    \n",
    "    # Cantidad de nulos\n",
    "    cantidad_nulos = data['longitude'].isna().sum()\n",
    "    \n",
    "    # Cantidad de vacíos (considerando cadenas vacías)\n",
    "    cantidad_vacios = (data['longitude'] == '').sum()\n",
    "    \n",
    "    # Cantidad de datos únicos\n",
    "    cantidad_unicos = data['longitude'].nunique()\n",
    "    \n",
    "    # Cantidad de datos totales\n",
    "    cantidad_totales = data['longitude'].shape[0]\n",
    "    \n",
    "    # Imprimir resultados\n",
    "    print(f\"Columna 'longitude':\")\n",
    "    print(f\" - Tipo de dato: {tipo_dato}\")\n",
    "    print(f\" - Cantidad de nulos: {cantidad_nulos}\")\n",
    "    print(f\" - Cantidad de vacíos: {cantidad_vacios}\")\n",
    "    print(f\" - Cantidad de datos únicos: {cantidad_unicos}\")\n",
    "    print(f\" - Cantidad de datos totales: {cantidad_totales}\")\n",
    "else:\n",
    "    print(\"La columna 'longitude' no existe en el DataFrame.\")\n",
    "\n",
    "print(data['longitude'].value_counts())\n",
    "print(data['longitude'].unique())"
   ]
  },
  {
   "cell_type": "markdown",
   "id": "3d94ab85",
   "metadata": {},
   "source": [
    "Analisis Cuantitaivo:\n",
    "* Promedio\n",
    "* Min\n",
    "* Max\n",
    "* Desviacion Estandar\n",
    "* Q1\n",
    "* Q2\n",
    "* Q3\n",
    "* Q4\n",
    "* Mediana\n",
    "* Kurtosis\n",
    "* Skewness"
   ]
  },
  {
   "cell_type": "code",
   "execution_count": 2,
   "id": "e05b540f",
   "metadata": {},
   "outputs": [
    {
     "name": "stdout",
     "output_type": "stream",
     "text": [
      "Cantidad de valores eliminados (dropeados): 0\n",
      "\n",
      "Análisis Cuantitativo de 'longitude':\n",
      " - Promedio: 12.60\n",
      " - Mínimo: -99.33963\n",
      " - Máximo: 151.33981\n",
      " - Desviación estándar: 73.08\n",
      " - Varianza: 5340.88\n",
      " - Q1 (25%): -43.19804\n",
      " - Q2 / Mediana (50%): 2.38278\n",
      " - Q3 (75%): 28.98673\n",
      " - Q4 (100%): 151.33981\n",
      " - Mediana: 2.38278\n",
      " - Curtosis (Kurtosis): -0.5191\n",
      " - Asimetría (Skewness): 0.4906\n"
     ]
    }
   ],
   "source": [
    "# Cantidad de filas antes de aplicar dropna\n",
    "total_antes = data['longitude'].shape[0]\n",
    "\n",
    "# Filtrar valores válidos\n",
    "valores_validos = data['longitude'].dropna()\n",
    "\n",
    "# Cantidad de filas después de aplicar dropna\n",
    "total_despues = valores_validos.shape[0]\n",
    "\n",
    "# Calcular cuántos valores se dropearon\n",
    "valores_dropeados = total_antes - total_despues\n",
    "\n",
    "# Imprimir el resultado\n",
    "print(f\"Cantidad de valores eliminados (dropeados): {valores_dropeados}\")\n",
    "\n",
    "if not valores_validos.empty:\n",
    "    # Cálculo de estadísticas sin transformar a escala relativa\n",
    "    promedio = valores_validos.mean()\n",
    "    minimo = valores_validos.min()\n",
    "    maximo = valores_validos.max()\n",
    "    desviacion = valores_validos.std()\n",
    "    varianza = valores_validos.var()\n",
    "    q1 = valores_validos.quantile(0.25)\n",
    "    q2 = valores_validos.quantile(0.50)  # Mediana\n",
    "    q3 = valores_validos.quantile(0.75)\n",
    "    q4 = valores_validos.quantile(1.0)\n",
    "    mediana = valores_validos.median()\n",
    "    kurtosis = valores_validos.kurtosis()\n",
    "    skewness = valores_validos.skew()\n",
    "\n",
    "    # Mostrar resultados\n",
    "    print(\"\\nAnálisis Cuantitativo de 'longitude':\")\n",
    "    print(f\" - Promedio: {promedio:.2f}\")\n",
    "    print(f\" - Mínimo: {minimo}\")\n",
    "    print(f\" - Máximo: {maximo}\")\n",
    "    print(f\" - Desviación estándar: {desviacion:.2f}\")\n",
    "    print(f\" - Varianza: {varianza:.2f}\")\n",
    "    print(f\" - Q1 (25%): {q1}\")\n",
    "    print(f\" - Q2 / Mediana (50%): {q2}\")\n",
    "    print(f\" - Q3 (75%): {q3}\")\n",
    "    print(f\" - Q4 (100%): {q4}\")\n",
    "    print(f\" - Mediana: {mediana}\")\n",
    "    print(f\" - Curtosis (Kurtosis): {kurtosis:.4f}\")\n",
    "    print(f\" - Asimetría (Skewness): {skewness:.4f}\")\n",
    "else:\n",
    "    print(\"No hay suficientes datos válidos para realizar un análisis cuantitativo.\")"
   ]
  },
  {
   "cell_type": "code",
   "execution_count": 3,
   "id": "3b1befc5",
   "metadata": {},
   "outputs": [
    {
     "data": {
      "image/png": "[encoded data removed]",
      "text/plain": [
       "<Figure size 800x600 with 1 Axes>"
      ]
     },
     "metadata": {},
     "output_type": "display_data"
    }
   ],
   "source": [
    "import pandas as pd\n",
    "import matplotlib.pyplot as plt\n",
    "\n",
    "# Verificar si la columna 'longitude' existe en el DataFrame\n",
    "if 'longitude' in data.columns:\n",
    "    # Filtrar valores válidos (eliminar nulos)\n",
    "    valores_validos = data['longitude'].dropna()\n",
    "\n",
    "    # Crear el gráfico boxplot\n",
    "    plt.figure(figsize=(8, 6))\n",
    "    plt.boxplot(valores_validos, vert=False, patch_artist=True, boxprops=dict(facecolor='orange'))\n",
    "    plt.title('Boxplot de longitude', fontsize=16)\n",
    "    plt.xlabel('Puntuación', fontsize=14)\n",
    "    plt.grid(axis='x', linestyle='--', alpha=0.7)\n",
    "\n",
    "    # Mostrar el gráfico\n",
    "    plt.tight_layout()\n",
    "    plt.show()\n",
    "else:\n",
    "    print(\"La columna 'longitude' no existe en el DataFrame.\")"
   ]
  }
 ],
 "metadata": {
  "kernelspec": {
   "display_name": "base",
   "language": "python",
   "name": "python3"
  },
  "language_info": {
   "codemirror_mode": {
    "name": "ipython",
    "version": 3
   },
   "file_extension": ".py",
   "mimetype": "text/x-python",
   "name": "python",
   "nbconvert_exporter": "python",
   "pygments_lexer": "ipython3",
   "version": "3.12.3"
  }
 },
 "nbformat": 4,
 "nbformat_minor": 5
}
