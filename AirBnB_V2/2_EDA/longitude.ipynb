{
 "cells": [
  {
   "cell_type": "code",
   "execution_count": null,
   "id": "b407bd65",
   "metadata": {},
   "outputs": [],
   "source": [
    "# Análisis de la columna: longitude\n",
    "\n",
    "# Aquí puedes agregar tu análisis para la columna 'longitude'"
   ]
  },
  {
   "cell_type": "markdown",
   "id": "ea37e91c",
   "metadata": {},
   "source": [
    "Longitude\n",
    " - Tipo de dato\n",
    " - Cantidad de nulos\n",
    " - Cantidad de Vacios\n",
    " - Cantidad de datos unicos\n",
    " - Cantidad de datos totales"
   ]
  },
  {
   "cell_type": "code",
   "execution_count": 1,
   "id": "17121a63",
   "metadata": {},
   "outputs": [
    {
     "name": "stdout",
     "output_type": "stream",
     "text": [
      "Columna 'longitude':\n",
      " - Tipo de dato: float64\n",
      " - Cantidad de nulos: 0\n",
      " - Cantidad de vacíos: 0\n",
      " - Cantidad de datos únicos: 118021\n",
      " - Cantidad de datos totales: 279712\n",
      "longitude\n",
      "-73.97249     68\n",
      " 114.16968    42\n",
      "-73.99371     39\n",
      "-73.98611     33\n",
      " 2.28526      28\n",
      "              ..\n",
      " 12.48826      1\n",
      " 28.93417      1\n",
      " 100.50404     1\n",
      " 100.49439     1\n",
      " 2.40858       1\n",
      "Name: count, Length: 118021, dtype: int64\n",
      "[2.33343 2.34515 2.31712 ... 2.31016 2.40844 2.40858]\n"
     ]
    }
   ],
   "source": [
    "import pandas as pd\n",
    "\n",
    "# Cargar únicamente la columna 'Review_scores_accuracy' del archivo CSV\n",
    "file_path = \"../0_Dataset/Listings.csv\"\n",
    "data = pd.read_csv(file_path, usecols=['longitude','city','latitude'], delimiter=',', encoding='latin-1')\n",
    "\n",
    "# Verificar si la columna 'Review_scores_accuracy' existe en el DataFrame\n",
    "if 'longitude' in data.columns:\n",
    "    # Tipo de dato\n",
    "    tipo_dato = data['longitude'].dtype\n",
    "    \n",
    "    # Cantidad de nulos\n",
    "    cantidad_nulos = data['longitude'].isna().sum()\n",
    "    \n",
    "    # Cantidad de vacíos (considerando cadenas vacías)\n",
    "    cantidad_vacios = (data['longitude'] == '').sum()\n",
    "    \n",
    "    # Cantidad de datos únicos\n",
    "    cantidad_unicos = data['longitude'].nunique()\n",
    "    \n",
    "    # Cantidad de datos totales\n",
    "    cantidad_totales = data['longitude'].shape[0]\n",
    "    \n",
    "    # Imprimir resultados\n",
    "    print(f\"Columna 'longitude':\")\n",
    "    print(f\" - Tipo de dato: {tipo_dato}\")\n",
    "    print(f\" - Cantidad de nulos: {cantidad_nulos}\")\n",
    "    print(f\" - Cantidad de vacíos: {cantidad_vacios}\")\n",
    "    print(f\" - Cantidad de datos únicos: {cantidad_unicos}\")\n",
    "    print(f\" - Cantidad de datos totales: {cantidad_totales}\")\n",
    "else:\n",
    "    print(\"La columna 'longitude' no existe en el DataFrame.\")\n",
    "\n",
    "print(data['longitude'].value_counts())\n",
    "print(data['longitude'].unique())"
   ]
  },
  {
   "cell_type": "code",
   "execution_count": 2,
   "id": "ad2d9999",
   "metadata": {},
   "outputs": [
    {
     "data": {
      "text/html": [
       "<div>\n",
       "<style scoped>\n",
       "    .dataframe tbody tr th:only-of-type {\n",
       "        vertical-align: middle;\n",
       "    }\n",
       "\n",
       "    .dataframe tbody tr th {\n",
       "        vertical-align: top;\n",
       "    }\n",
       "\n",
       "    .dataframe thead th {\n",
       "        text-align: right;\n",
       "    }\n",
       "</style>\n",
       "<table border=\"1\" class=\"dataframe\">\n",
       "  <thead>\n",
       "    <tr style=\"text-align: right;\">\n",
       "      <th></th>\n",
       "      <th>count</th>\n",
       "      <th>mean</th>\n",
       "      <th>std</th>\n",
       "      <th>min</th>\n",
       "      <th>25%</th>\n",
       "      <th>50%</th>\n",
       "      <th>75%</th>\n",
       "      <th>max</th>\n",
       "    </tr>\n",
       "    <tr>\n",
       "      <th>city</th>\n",
       "      <th></th>\n",
       "      <th></th>\n",
       "      <th></th>\n",
       "      <th></th>\n",
       "      <th></th>\n",
       "      <th></th>\n",
       "      <th></th>\n",
       "      <th></th>\n",
       "    </tr>\n",
       "  </thead>\n",
       "  <tbody>\n",
       "    <tr>\n",
       "      <th>Bangkok</th>\n",
       "      <td>19361.0</td>\n",
       "      <td>100.561134</td>\n",
       "      <td>0.052448</td>\n",
       "      <td>100.32982</td>\n",
       "      <td>100.529410</td>\n",
       "      <td>100.562630</td>\n",
       "      <td>100.586850</td>\n",
       "      <td>100.92344</td>\n",
       "    </tr>\n",
       "    <tr>\n",
       "      <th>Cape Town</th>\n",
       "      <td>19086.0</td>\n",
       "      <td>18.477896</td>\n",
       "      <td>0.128204</td>\n",
       "      <td>18.31941</td>\n",
       "      <td>18.402970</td>\n",
       "      <td>18.436880</td>\n",
       "      <td>18.488053</td>\n",
       "      <td>18.94104</td>\n",
       "    </tr>\n",
       "    <tr>\n",
       "      <th>Hong Kong</th>\n",
       "      <td>7087.0</td>\n",
       "      <td>114.162484</td>\n",
       "      <td>0.045887</td>\n",
       "      <td>113.85649</td>\n",
       "      <td>114.163275</td>\n",
       "      <td>114.171640</td>\n",
       "      <td>114.180220</td>\n",
       "      <td>114.36140</td>\n",
       "    </tr>\n",
       "    <tr>\n",
       "      <th>Istanbul</th>\n",
       "      <td>24519.0</td>\n",
       "      <td>28.981278</td>\n",
       "      <td>0.128085</td>\n",
       "      <td>28.01899</td>\n",
       "      <td>28.972690</td>\n",
       "      <td>28.982700</td>\n",
       "      <td>29.011535</td>\n",
       "      <td>29.90896</td>\n",
       "    </tr>\n",
       "    <tr>\n",
       "      <th>Mexico City</th>\n",
       "      <td>20065.0</td>\n",
       "      <td>-99.167971</td>\n",
       "      <td>0.036267</td>\n",
       "      <td>-99.33963</td>\n",
       "      <td>-99.180570</td>\n",
       "      <td>-99.168000</td>\n",
       "      <td>-99.152740</td>\n",
       "      <td>-98.96297</td>\n",
       "    </tr>\n",
       "    <tr>\n",
       "      <th>New York</th>\n",
       "      <td>37012.0</td>\n",
       "      <td>-73.950989</td>\n",
       "      <td>0.048291</td>\n",
       "      <td>-74.23986</td>\n",
       "      <td>-73.983812</td>\n",
       "      <td>-73.955790</td>\n",
       "      <td>-73.933720</td>\n",
       "      <td>-73.71087</td>\n",
       "    </tr>\n",
       "    <tr>\n",
       "      <th>Paris</th>\n",
       "      <td>64690.0</td>\n",
       "      <td>2.345289</td>\n",
       "      <td>0.033275</td>\n",
       "      <td>2.22868</td>\n",
       "      <td>2.324310</td>\n",
       "      <td>2.348180</td>\n",
       "      <td>2.370460</td>\n",
       "      <td>2.46705</td>\n",
       "    </tr>\n",
       "    <tr>\n",
       "      <th>Rio de Janeiro</th>\n",
       "      <td>26615.0</td>\n",
       "      <td>-43.248533</td>\n",
       "      <td>0.096296</td>\n",
       "      <td>-43.70479</td>\n",
       "      <td>-43.304090</td>\n",
       "      <td>-43.196210</td>\n",
       "      <td>-43.186300</td>\n",
       "      <td>-43.10486</td>\n",
       "    </tr>\n",
       "    <tr>\n",
       "      <th>Rome</th>\n",
       "      <td>27647.0</td>\n",
       "      <td>12.481169</td>\n",
       "      <td>0.046532</td>\n",
       "      <td>12.23773</td>\n",
       "      <td>12.461760</td>\n",
       "      <td>12.478500</td>\n",
       "      <td>12.504615</td>\n",
       "      <td>12.82626</td>\n",
       "    </tr>\n",
       "    <tr>\n",
       "      <th>Sydney</th>\n",
       "      <td>33630.0</td>\n",
       "      <td>151.199954</td>\n",
       "      <td>0.089769</td>\n",
       "      <td>150.60196</td>\n",
       "      <td>151.175410</td>\n",
       "      <td>151.215005</td>\n",
       "      <td>151.260610</td>\n",
       "      <td>151.33981</td>\n",
       "    </tr>\n",
       "  </tbody>\n",
       "</table>\n",
       "</div>"
      ],
      "text/plain": [
       "                  count        mean       std        min         25%  \\\n",
       "city                                                                   \n",
       "Bangkok         19361.0  100.561134  0.052448  100.32982  100.529410   \n",
       "Cape Town       19086.0   18.477896  0.128204   18.31941   18.402970   \n",
       "Hong Kong        7087.0  114.162484  0.045887  113.85649  114.163275   \n",
       "Istanbul        24519.0   28.981278  0.128085   28.01899   28.972690   \n",
       "Mexico City     20065.0  -99.167971  0.036267  -99.33963  -99.180570   \n",
       "New York        37012.0  -73.950989  0.048291  -74.23986  -73.983812   \n",
       "Paris           64690.0    2.345289  0.033275    2.22868    2.324310   \n",
       "Rio de Janeiro  26615.0  -43.248533  0.096296  -43.70479  -43.304090   \n",
       "Rome            27647.0   12.481169  0.046532   12.23773   12.461760   \n",
       "Sydney          33630.0  151.199954  0.089769  150.60196  151.175410   \n",
       "\n",
       "                       50%         75%        max  \n",
       "city                                               \n",
       "Bangkok         100.562630  100.586850  100.92344  \n",
       "Cape Town        18.436880   18.488053   18.94104  \n",
       "Hong Kong       114.171640  114.180220  114.36140  \n",
       "Istanbul         28.982700   29.011535   29.90896  \n",
       "Mexico City     -99.168000  -99.152740  -98.96297  \n",
       "New York        -73.955790  -73.933720  -73.71087  \n",
       "Paris             2.348180    2.370460    2.46705  \n",
       "Rio de Janeiro  -43.196210  -43.186300  -43.10486  \n",
       "Rome             12.478500   12.504615   12.82626  \n",
       "Sydney          151.215005  151.260610  151.33981  "
      ]
     },
     "execution_count": 2,
     "metadata": {},
     "output_type": "execute_result"
    }
   ],
   "source": [
    "data.groupby('city')['longitude'].describe()\n"
   ]
  },
  {
   "cell_type": "code",
   "execution_count": 3,
   "id": "c4e3f4f0",
   "metadata": {},
   "outputs": [
    {
     "name": "stdout",
     "output_type": "stream",
     "text": [
      "                 Kurtosis  Skewness\n",
      "city                               \n",
      "Bangkok          3.464284  0.604933\n",
      "Cape Town        2.924144  1.906404\n",
      "Hong Kong       10.957525 -2.750350\n",
      "Istanbul        12.851297  0.397685\n",
      "Mexico City      3.557008 -0.153415\n",
      "New York         4.332554  1.331141\n",
      "Paris           -0.423184 -0.346285\n",
      "Rio de Janeiro   1.278250 -1.473351\n",
      "Rome             6.352429 -0.828255\n",
      "Sydney           6.423752 -2.069612\n"
     ]
    }
   ],
   "source": [
    "# Curtosis por ciudad\n",
    "curtosis = data.groupby('city')['longitude'].apply(lambda x: x.kurtosis())\n",
    "\n",
    "# Asimetría por ciudad\n",
    "asimetria = data.groupby('city')['longitude'].apply(lambda x: x.skew())\n",
    "\n",
    "# Mostrar ambas juntas\n",
    "resultados = pd.DataFrame({'Kurtosis': curtosis, 'Skewness': asimetria})\n",
    "print(resultados)\n"
   ]
  },
  {
   "cell_type": "markdown",
   "id": "3d94ab85",
   "metadata": {},
   "source": [
    "Analisis Cuantitaivo:\n",
    "* Promedio\n",
    "* Min\n",
    "* Max\n",
    "* Desviacion Estandar\n",
    "* Q1\n",
    "* Q2\n",
    "* Q3\n",
    "* Q4\n",
    "* Mediana\n",
    "* Kurtosis\n",
    "* Skewness"
   ]
  },
  {
   "cell_type": "code",
   "execution_count": 2,
   "id": "e05b540f",
   "metadata": {},
   "outputs": [
    {
     "name": "stdout",
     "output_type": "stream",
     "text": [
      "Cantidad de valores eliminados (dropeados): 0\n",
      "\n",
      "Análisis Cuantitativo de 'longitude':\n",
      " - Promedio: 12.60\n",
      " - Mínimo: -99.33963\n",
      " - Máximo: 151.33981\n",
      " - Desviación estándar: 73.08\n",
      " - Varianza: 5340.88\n",
      " - Q1 (25%): -43.19804\n",
      " - Q2 / Mediana (50%): 2.38278\n",
      " - Q3 (75%): 28.98673\n",
      " - Q4 (100%): 151.33981\n",
      " - Mediana: 2.38278\n",
      " - Curtosis (Kurtosis): -0.5191\n",
      " - Asimetría (Skewness): 0.4906\n"
     ]
    }
   ],
   "source": [
    "# Cantidad de filas antes de aplicar dropna\n",
    "total_antes = data['longitude'].shape[0]\n",
    "\n",
    "# Filtrar valores válidos\n",
    "valores_validos = data['longitude'].dropna()\n",
    "\n",
    "# Cantidad de filas después de aplicar dropna\n",
    "total_despues = valores_validos.shape[0]\n",
    "\n",
    "# Calcular cuántos valores se dropearon\n",
    "valores_dropeados = total_antes - total_despues\n",
    "\n",
    "# Imprimir el resultado\n",
    "print(f\"Cantidad de valores eliminados (dropeados): {valores_dropeados}\")\n",
    "\n",
    "if not valores_validos.empty:\n",
    "    # Cálculo de estadísticas sin transformar a escala relativa\n",
    "    promedio = valores_validos.mean()\n",
    "    minimo = valores_validos.min()\n",
    "    maximo = valores_validos.max()\n",
    "    desviacion = valores_validos.std()\n",
    "    varianza = valores_validos.var()\n",
    "    q1 = valores_validos.quantile(0.25)\n",
    "    q2 = valores_validos.quantile(0.50)  # Mediana\n",
    "    q3 = valores_validos.quantile(0.75)\n",
    "    q4 = valores_validos.quantile(1.0)\n",
    "    mediana = valores_validos.median()\n",
    "    kurtosis = valores_validos.kurtosis()\n",
    "    skewness = valores_validos.skew()\n",
    "\n",
    "    # Mostrar resultados\n",
    "    print(\"\\nAnálisis Cuantitativo de 'longitude':\")\n",
    "    print(f\" - Promedio: {promedio:.2f}\")\n",
    "    print(f\" - Mínimo: {minimo}\")\n",
    "    print(f\" - Máximo: {maximo}\")\n",
    "    print(f\" - Desviación estándar: {desviacion:.2f}\")\n",
    "    print(f\" - Varianza: {varianza:.2f}\")\n",
    "    print(f\" - Q1 (25%): {q1}\")\n",
    "    print(f\" - Q2 / Mediana (50%): {q2}\")\n",
    "    print(f\" - Q3 (75%): {q3}\")\n",
    "    print(f\" - Q4 (100%): {q4}\")\n",
    "    print(f\" - Mediana: {mediana}\")\n",
    "    print(f\" - Curtosis (Kurtosis): {kurtosis:.4f}\")\n",
    "    print(f\" - Asimetría (Skewness): {skewness:.4f}\")\n",
    "else:\n",
    "    print(\"No hay suficientes datos válidos para realizar un análisis cuantitativo.\")"
   ]
  },
  {
   "cell_type": "code",
   "execution_count": 3,
   "id": "3b1befc5",
   "metadata": {},
   "outputs": [
    {
     "data": {
      "image/png": "[encoded data removed]",
      "text/plain": [
       "<Figure size 800x600 with 1 Axes>"
      ]
     },
     "metadata": {},
     "output_type": "display_data"
    }
   ],
   "source": [
    "import pandas as pd\n",
    "import matplotlib.pyplot as plt\n",
    "\n",
    "# Verificar si la columna 'longitude' existe en el DataFrame\n",
    "if 'longitude' in data.columns:\n",
    "    # Filtrar valores válidos (eliminar nulos)\n",
    "    valores_validos = data['longitude'].dropna()\n",
    "\n",
    "    # Crear el gráfico boxplot\n",
    "    plt.figure(figsize=(8, 6))\n",
    "    plt.boxplot(valores_validos, vert=False, patch_artist=True, boxprops=dict(facecolor='orange'))\n",
    "    plt.title('Boxplot de longitude', fontsize=16)\n",
    "    plt.xlabel('Puntuación', fontsize=14)\n",
    "    plt.grid(axis='x', linestyle='--', alpha=0.7)\n",
    "\n",
    "    # Mostrar el gráfico\n",
    "    plt.tight_layout()\n",
    "    plt.show()\n",
    "else:\n",
    "    print(\"La columna 'longitude' no existe en el DataFrame.\")"
   ]
  },
  {
   "cell_type": "code",
   "execution_count": 2,
   "id": "fed18661",
   "metadata": {},
   "outputs": [
    {
     "data": {
      "image/png": "[encoded data removed]",
      "text/plain": [
       "<Figure size 1000x800 with 1 Axes>"
      ]
     },
     "metadata": {},
     "output_type": "display_data"
    }
   ],
   "source": [
    "import matplotlib.pyplot as plt\n",
    "\n",
    "plt.figure(figsize=(10, 8))\n",
    "plt.scatter(data['longitude'], data['latitude'], alpha=0.4, s=5)\n",
    "plt.title('Distribución geográfica de los alojamientos', fontsize=14)\n",
    "plt.xlabel('Longitud')\n",
    "plt.ylabel('Latitud')\n",
    "plt.grid(True)\n",
    "plt.tight_layout()\n",
    "plt.show()\n"
   ]
  },
  {
   "cell_type": "code",
   "execution_count": 12,
   "id": "ca173f87",
   "metadata": {},
   "outputs": [
    {
     "name": "stderr",
     "output_type": "stream",
     "text": [
      "C:\\Users\\mby30\\AppData\\Local\\Temp\\ipykernel_13676\\3403343622.py:9: FutureWarning: \n",
      "\n",
      "Passing `palette` without assigning `hue` is deprecated and will be removed in v0.14.0. Assign the `x` variable to `hue` and set `legend=False` for the same effect.\n",
      "\n",
      "  sns.boxplot(x='Coordenada', y='Valor', data=geo_df, palette='Set2')\n"
     ]
    },
    {
     "data": {
      "image/png": "[encoded data removed]",
      "text/plain": [
       "<Figure size 800x600 with 1 Axes>"
      ]
     },
     "metadata": {},
     "output_type": "display_data"
    }
   ],
   "source": [
    "import matplotlib.pyplot as plt\n",
    "import seaborn as sns\n",
    "import pandas as pd\n",
    "\n",
    "# Crear DataFrame largo (melted) para usar con seaborn\n",
    "geo_df = data[['latitude']].melt(var_name='Coordenada', value_name='Valor')\n",
    "\n",
    "plt.figure(figsize=(8, 6))\n",
    "sns.boxplot(x='Coordenada', y='Valor', data=geo_df, palette='Set2')\n",
    "plt.title('Boxplot de Latitud de Alojamientos')\n",
    "plt.ylabel('Frecuencia')\n",
    "plt.grid(True, axis='y', alpha=0.3)\n",
    "plt.tight_layout()\n",
    "plt.show()\n"
   ]
  },
  {
   "cell_type": "code",
   "execution_count": 13,
   "id": "cf65f53f",
   "metadata": {},
   "outputs": [
    {
     "name": "stderr",
     "output_type": "stream",
     "text": [
      "C:\\Users\\mby30\\AppData\\Local\\Temp\\ipykernel_13676\\3564999488.py:9: FutureWarning: \n",
      "\n",
      "Passing `palette` without assigning `hue` is deprecated and will be removed in v0.14.0. Assign the `x` variable to `hue` and set `legend=False` for the same effect.\n",
      "\n",
      "  sns.boxplot(x='Coordenada', y='Valor', data=geo_df, palette='Set2')\n"
     ]
    },
    {
     "data": {
      "image/png": "[encoded data removed]",
      "text/plain": [
       "<Figure size 800x600 with 1 Axes>"
      ]
     },
     "metadata": {},
     "output_type": "display_data"
    }
   ],
   "source": [
    "import matplotlib.pyplot as plt\n",
    "import seaborn as sns\n",
    "import pandas as pd\n",
    "\n",
    "# Crear DataFrame largo (melted) para usar con seaborn\n",
    "geo_df = data[['longitude']].melt(var_name='Coordenada', value_name='Valor')\n",
    "\n",
    "plt.figure(figsize=(8, 6))\n",
    "sns.boxplot(x='Coordenada', y='Valor', data=geo_df, palette='Set2')\n",
    "plt.title('Boxplot de Longitud de Alojamientos')\n",
    "plt.ylabel('Frecuencia')\n",
    "plt.grid(True, axis='y', alpha=0.3)\n",
    "plt.tight_layout()\n",
    "plt.show()\n"
   ]
  }
 ],
 "metadata": {
  "kernelspec": {
   "display_name": "base",
   "language": "python",
   "name": "python3"
  },
  "language_info": {
   "codemirror_mode": {
    "name": "ipython",
    "version": 3
   },
   "file_extension": ".py",
   "mimetype": "text/x-python",
   "name": "python",
   "nbconvert_exporter": "python",
   "pygments_lexer": "ipython3",
   "version": "3.12.3"
  }
 },
 "nbformat": 4,
 "nbformat_minor": 5
}
