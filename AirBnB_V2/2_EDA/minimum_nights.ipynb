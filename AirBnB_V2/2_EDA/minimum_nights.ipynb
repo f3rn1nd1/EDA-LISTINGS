{
 "cells": [
  {
   "cell_type": "markdown",
   "id": "d99b599e",
   "metadata": {},
   "source": [
    "Minimum_nights\n",
    " - Tipo de dato\n",
    " - Cantidad de nulos\n",
    " - Cantidad de Vacios\n",
    " - Cantidad de datos unicos\n",
    " - Cantidad de datos totales"
   ]
  },
  {
   "cell_type": "code",
   "execution_count": 2,
   "id": "c2dec45e",
   "metadata": {},
   "outputs": [
    {
     "name": "stdout",
     "output_type": "stream",
     "text": [
      "Columna 'minimum_nights':\n",
      " - Tipo de dato: int64\n",
      " - Cantidad de nulos: 0\n",
      " - Cantidad de vacíos: 0\n",
      " - Cantidad de datos únicos: 202\n",
      " - Cantidad de datos totales: 279712\n",
      "minimum_nights\n",
      "1       92839\n",
      "2       60877\n",
      "3       37869\n",
      "30      28881\n",
      "5       13770\n",
      "        ...  \n",
      "156         1\n",
      "1100        1\n",
      "178         1\n",
      "9999        1\n",
      "340         1\n",
      "Name: count, Length: 202, dtype: int64\n",
      "[   2    1    7    3    4    5    6    8   19   14   10   28    9   30\n",
      "   20 1001   15   29  110  222   95   50  180   13   25   31   12   60\n",
      "  300   90  270  120   24  200   21  156   27  100  365  150   55   91\n",
      "   17  400 1124   70  360  250   11   65   26  600  335   23  500   18\n",
      "   35 1125   88   59   93 1000  280   58   22   68  480  366  364   78\n",
      "   40   52   45   99  395  630   32  355   80  999  444   16   92   42\n",
      "   82  213  186  185   47   75   85  240  210   36   33  275 1100  183\n",
      "  126  158  184   89  333   94  730  181   61   56  258   44   84  720\n",
      "  356   49 1112  211   72  370  550  182  399  109   37  123  149  140\n",
      "  170   38  304   62  350   96  198  700   43  130  179  121  113  122\n",
      "   48 1123  265 9999  178   87  153   63  117  134  132  118  124  299\n",
      "   53   76   51  230  160  114   39   54  168  148  125  456  244  199\n",
      "   69  108  238  133  190  259  450  260   57  228  310  175  223  119\n",
      "  363  354  115  151   34   83   66 1250   98  330  152  320  358   41\n",
      "  106  380  523   97  308  340]\n"
     ]
    }
   ],
   "source": [
    "import pandas as pd\n",
    "\n",
    "# Cargar únicamente la columna 'Review_scores_accuracy' del archivo CSV\n",
    "file_path = \"../0_Dataset/Listings.csv\"\n",
    "data = pd.read_csv(file_path, usecols=['minimum_nights'], delimiter=',', encoding='latin-1')\n",
    "\n",
    "# Verificar si la columna 'Review_scores_accuracy' existe en el DataFrame\n",
    "if 'minimum_nights' in data.columns:\n",
    "    # Tipo de dato\n",
    "    tipo_dato = data['minimum_nights'].dtype\n",
    "    \n",
    "    # Cantidad de nulos\n",
    "    cantidad_nulos = data['minimum_nights'].isna().sum()\n",
    "    \n",
    "    # Cantidad de vacíos (considerando cadenas vacías)\n",
    "    cantidad_vacios = (data['minimum_nights'] == '').sum()\n",
    "    \n",
    "    # Cantidad de datos únicos\n",
    "    cantidad_unicos = data['minimum_nights'].nunique()\n",
    "    \n",
    "    # Cantidad de datos totales\n",
    "    cantidad_totales = data['minimum_nights'].shape[0]\n",
    "    \n",
    "    # Imprimir resultados\n",
    "    print(f\"Columna 'minimum_nights':\")\n",
    "    print(f\" - Tipo de dato: {tipo_dato}\")\n",
    "    print(f\" - Cantidad de nulos: {cantidad_nulos}\")\n",
    "    print(f\" - Cantidad de vacíos: {cantidad_vacios}\")\n",
    "    print(f\" - Cantidad de datos únicos: {cantidad_unicos}\")\n",
    "    print(f\" - Cantidad de datos totales: {cantidad_totales}\")\n",
    "else:\n",
    "    print(\"La columna 'minimum_nights' no existe en el DataFrame.\")\n",
    "\n",
    "print(data['minimum_nights'].value_counts())\n",
    "print(data['minimum_nights'].unique())"
   ]
  },
  {
   "cell_type": "markdown",
   "id": "40eb3d02",
   "metadata": {},
   "source": [
    "Analisis Cuantitaivo CON OUTLIERS:\n",
    "* Promedio\n",
    "* Min\n",
    "* Max\n",
    "* Desviacion Estandar\n",
    "* Q1\n",
    "* Q2\n",
    "* Q3\n",
    "* Q4\n",
    "* Mediana\n",
    "* Kurtosis\n",
    "* Skewness"
   ]
  },
  {
   "cell_type": "code",
   "execution_count": 3,
   "id": "19a2a023",
   "metadata": {},
   "outputs": [
    {
     "name": "stdout",
     "output_type": "stream",
     "text": [
      "Cantidad de valores eliminados (dropeados): 0\n",
      "\n",
      "Análisis Cuantitativo de 'minimum_nights':\n",
      " - Promedio: 8.05\n",
      " - Mínimo: 1\n",
      " - Máximo: 9999\n",
      " - Desviación estándar: 31.52\n",
      " - Varianza: 993.44\n",
      " - Q1 (25%): 1.0\n",
      " - Q2 / Mediana (50%): 2.0\n",
      " - Q3 (75%): 5.0\n",
      " - Q4 (100%): 9999.0\n",
      " - Mediana: 2.0\n",
      " - Curtosis (Kurtosis): 36317.5373\n",
      " - Asimetría (Skewness): 123.1709\n"
     ]
    }
   ],
   "source": [
    "# Cantidad de filas antes de aplicar dropna\n",
    "total_antes = data['minimum_nights'].shape[0]\n",
    "\n",
    "# Filtrar valores válidos\n",
    "valores_validos = data['minimum_nights'].dropna()\n",
    "\n",
    "# Cantidad de filas después de aplicar dropna\n",
    "total_despues = valores_validos.shape[0]\n",
    "\n",
    "# Calcular cuántos valores se dropearon\n",
    "valores_dropeados = total_antes - total_despues\n",
    "\n",
    "# Imprimir el resultado\n",
    "print(f\"Cantidad de valores eliminados (dropeados): {valores_dropeados}\")\n",
    "\n",
    "if not valores_validos.empty:\n",
    "    # Cálculo de estadísticas sin transformar a escala relativa\n",
    "    promedio = valores_validos.mean()\n",
    "    minimo = valores_validos.min()\n",
    "    maximo = valores_validos.max()\n",
    "    desviacion = valores_validos.std()\n",
    "    varianza = valores_validos.var()\n",
    "    q1 = valores_validos.quantile(0.25)\n",
    "    q2 = valores_validos.quantile(0.50)  # Mediana\n",
    "    q3 = valores_validos.quantile(0.75)\n",
    "    q4 = valores_validos.quantile(1.0)\n",
    "    mediana = valores_validos.median()\n",
    "    kurtosis = valores_validos.kurtosis()\n",
    "    skewness = valores_validos.skew()\n",
    "\n",
    "    # Mostrar resultados\n",
    "    print(\"\\nAnálisis Cuantitativo de 'minimum_nights':\")\n",
    "    print(f\" - Promedio: {promedio:.2f}\")\n",
    "    print(f\" - Mínimo: {minimo}\")\n",
    "    print(f\" - Máximo: {maximo}\")\n",
    "    print(f\" - Desviación estándar: {desviacion:.2f}\")\n",
    "    print(f\" - Varianza: {varianza:.2f}\")\n",
    "    print(f\" - Q1 (25%): {q1}\")\n",
    "    print(f\" - Q2 / Mediana (50%): {q2}\")\n",
    "    print(f\" - Q3 (75%): {q3}\")\n",
    "    print(f\" - Q4 (100%): {q4}\")\n",
    "    print(f\" - Mediana: {mediana}\")\n",
    "    print(f\" - Curtosis (Kurtosis): {kurtosis:.4f}\")\n",
    "    print(f\" - Asimetría (Skewness): {skewness:.4f}\")\n",
    "else:\n",
    "    print(\"No hay suficientes datos válidos para realizar un análisis cuantitativo.\")"
   ]
  },
  {
   "cell_type": "code",
   "execution_count": 5,
   "id": "0b0a54bc",
   "metadata": {},
   "outputs": [
    {
     "data": {
      "image/png": "[encoded data removed]",
      "text/plain": [
       "<Figure size 800x600 with 1 Axes>"
      ]
     },
     "metadata": {},
     "output_type": "display_data"
    }
   ],
   "source": [
    "import pandas as pd\n",
    "import matplotlib.pyplot as plt\n",
    "\n",
    "\n",
    "if 'minimum_nights' in data.columns:\n",
    "    # Filtrar valores válidos (eliminar nulos)\n",
    "    valores_validos = data['minimum_nights'].dropna()\n",
    "\n",
    "    # Crear el gráfico boxplot\n",
    "    plt.figure(figsize=(8, 6))\n",
    "    plt.boxplot(valores_validos, vert=False, patch_artist=True, boxprops=dict(facecolor='green'))\n",
    "    plt.title('Boxplot de noches mínimas', fontsize=16)\n",
    "    plt.xlabel('Cantidad de noches', fontsize=14)\n",
    "    plt.grid(axis='x', linestyle='--', alpha=0.7)\n",
    "\n",
    "    # Mostrar el gráfico\n",
    "    plt.tight_layout()\n",
    "    plt.show()\n",
    "else:\n",
    "    print(\"La columna 'review_scores_value' no existe en el DataFrame.\")"
   ]
  },
  {
   "cell_type": "markdown",
   "id": "a32fd237",
   "metadata": {},
   "source": [
    "ANALISIS CUANTITATIVO APLICANDO FUNCIÓN DE OUTLIERS  "
   ]
  },
  {
   "cell_type": "code",
   "execution_count": 6,
   "id": "e215d21a",
   "metadata": {},
   "outputs": [
    {
     "name": "stdout",
     "output_type": "stream",
     "text": [
      "Cantidad de outliers detectados: 43105\n",
      "\n",
      "Análisis Cuantitativo de 'minimum_nights' (escala natural, sin outliers):\n",
      " - Promedio: 2.47\n",
      " - Mínimo: 1\n",
      " - Máximo: 11\n",
      " - Desviación estándar: 1.85\n",
      " - Q1 (25%): 1.0\n",
      " - Q2 / Mediana (50%): 2.0\n",
      " - Q3 (75%): 3.0\n",
      " - Varianza: 3.4072\n",
      " - Curtosis (Kurtosis): 3.0310\n",
      " - Asimetría (Skewness): 1.7232\n"
     ]
    }
   ],
   "source": [
    "# 1. Filtrar valores válidos: eliminar nulos y valores 0\n",
    "valores_validos = data['minimum_nights'].dropna()\n",
    "\n",
    "# 2. Cálculo de IQR y límites\n",
    "q1 = valores_validos.quantile(0.25)\n",
    "q3 = valores_validos.quantile(0.75)\n",
    "iqr = q3 - q1\n",
    "limite_inferior = q1 - 1.5 * iqr\n",
    "limite_superior = q3 + 1.5 * iqr\n",
    "\n",
    "# 3. Identificar outliers\n",
    "outliers = valores_validos[(valores_validos < limite_inferior) | (valores_validos > limite_superior)]\n",
    "cantidad_outliers = outliers.shape[0]\n",
    "\n",
    "# 4. Eliminar outliers\n",
    "valores_sin_outliers = valores_validos[(valores_validos >= limite_inferior) & (valores_validos <= limite_superior)]\n",
    "\n",
    "# 5. Calcular estadísticas descriptivas sin outliers\n",
    "if not valores_sin_outliers.empty:\n",
    "    promedio = valores_sin_outliers.mean()\n",
    "    minimo = valores_sin_outliers.min()\n",
    "    maximo = valores_sin_outliers.max()\n",
    "    desviacion = valores_sin_outliers.std()\n",
    "    q1 = valores_sin_outliers.quantile(0.25)\n",
    "    q2 = valores_sin_outliers.quantile(0.50)\n",
    "    q3 = valores_sin_outliers.quantile(0.75)\n",
    "    varianza = valores_sin_outliers.var()\n",
    "    kurtosis = valores_sin_outliers.kurtosis()\n",
    "    skewness = valores_sin_outliers.skew()\n",
    "\n",
    "    # 6. Mostrar resultados\n",
    "    print(f\"Cantidad de outliers detectados: {cantidad_outliers}\\n\")\n",
    "    print(\"Análisis Cuantitativo de 'minimum_nights' (escala natural, sin outliers):\")\n",
    "    print(f\" - Promedio: {promedio:.2f}\")\n",
    "    print(f\" - Mínimo: {minimo}\")\n",
    "    print(f\" - Máximo: {maximo}\")\n",
    "    print(f\" - Desviación estándar: {desviacion:.2f}\")\n",
    "    print(f\" - Q1 (25%): {q1}\")\n",
    "    print(f\" - Q2 / Mediana (50%): {q2}\")\n",
    "    print(f\" - Q3 (75%): {q3}\")\n",
    "    print(f\" - Varianza: {varianza:.4f}\")\n",
    "    print(f\" - Curtosis (Kurtosis): {kurtosis:.4f}\")\n",
    "    print(f\" - Asimetría (Skewness): {skewness:.4f}\")\n",
    "else:\n",
    "    print(\"No hay suficientes datos válidos para realizar el análisis.\")\n"
   ]
  },
  {
   "cell_type": "code",
   "execution_count": 8,
   "id": "7ac14fb9",
   "metadata": {},
   "outputs": [
    {
     "data": {
      "image/png": "[encoded data removed]",
      "text/plain": [
       "<Figure size 800x600 with 1 Axes>"
      ]
     },
     "metadata": {},
     "output_type": "display_data"
    }
   ],
   "source": [
    "import pandas as pd\n",
    "import matplotlib.pyplot as plt\n",
    "\n",
    "# Verificar si la columna 'accommodates' existe en el DataFrame\n",
    "if 'minimum_nights' in data.columns:\n",
    "    # Filtrar valores válidos (eliminar nulos)\n",
    "    valores_validos = data['minimum_nights'].dropna()\n",
    "\n",
    "    # Calcular IQR y límites para eliminar outliers\n",
    "    q1 = valores_validos.quantile(0.25)\n",
    "    q3 = valores_validos.quantile(0.75)\n",
    "    iqr = q3 - q1\n",
    "    limite_inferior = q1 - 1.5 * iqr\n",
    "    limite_superior = q3 + 1.5 * iqr\n",
    "\n",
    "    # Eliminar outliers\n",
    "    valores_filtrados = valores_validos[\n",
    "        (valores_validos >= limite_inferior) & (valores_validos <= limite_superior)\n",
    "    ]\n",
    "\n",
    "    # Crear el gráfico boxplot (sin outliers)\n",
    "    plt.figure(figsize=(8, 6))\n",
    "    plt.boxplot(valores_filtrados, vert=False, patch_artist=True,\n",
    "                boxprops=dict(facecolor='green'))\n",
    "    plt.title('Boxplot de noches mínimas', fontsize=16)\n",
    "    plt.xlabel('Cantidad de noches', fontsize=14)\n",
    "    plt.grid(axis='x', linestyle='--', alpha=0.7)\n",
    "\n",
    "    # Mostrar el gráfico\n",
    "    plt.tight_layout()\n",
    "    plt.show()\n",
    "else:\n",
    "    print(\"La columna 'accommodates' no existe en el DataFrame.\")\n"
   ]
  }
 ],
 "metadata": {
  "kernelspec": {
   "display_name": "base",
   "language": "python",
   "name": "python3"
  },
  "language_info": {
   "codemirror_mode": {
    "name": "ipython",
    "version": 3
   },
   "file_extension": ".py",
   "mimetype": "text/x-python",
   "name": "python",
   "nbconvert_exporter": "python",
   "pygments_lexer": "ipython3",
   "version": "3.12.3"
  }
 },
 "nbformat": 4,
 "nbformat_minor": 5
}
