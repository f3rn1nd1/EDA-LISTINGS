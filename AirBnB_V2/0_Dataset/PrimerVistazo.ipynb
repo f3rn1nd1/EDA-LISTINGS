{
 "cells": [
  {
   "cell_type": "markdown",
   "id": "ac581ce6",
   "metadata": {},
   "source": [
    "Cargar CSV"
   ]
  },
  {
   "cell_type": "code",
   "execution_count": 2,
   "id": "8c48a42a",
   "metadata": {},
   "outputs": [
    {
     "name": "stderr",
     "output_type": "stream",
     "text": [
<<<<<<< HEAD
      "C:\\Users\\lfabr\\AppData\\Local\\Temp\\ipykernel_4052\\3234497961.py:5: DtypeWarning: Columns (16) have mixed types. Specify dtype option on import or set low_memory=False.\n",
=======
      "C:\\Users\\Usuario\\AppData\\Local\\Temp\\ipykernel_17120\\3234497961.py:5: DtypeWarning: Columns (16) have mixed types. Specify dtype option on import or set low_memory=False.\n",
>>>>>>> 0ce0e5102d2b3223dbdb47bb848ba402ad473d39
      "  data = pd.read_csv(file_path, delimiter=';')\n"
     ]
    },
    {
     "name": "stdout",
     "output_type": "stream",
     "text": [
      "Columnas disponibles: Index(['listing_id', 'review_id', 'date', 'reviewer_id', 'name', 'host_id',\n",
      "       'host_since', 'host_location', 'host_response_time',\n",
      "       'host_response_rate', 'host_acceptance_rate', 'host_is_superhost',\n",
      "       'host_total_listings_count', 'host_has_profile_pic',\n",
      "       'host_identity_verified', 'neighbourhood', 'district', 'city',\n",
      "       'latitude', 'longitude', 'property_type', 'room_type', 'accommodates',\n",
      "       'bedrooms', 'amenities', 'price', 'minimum_nights', 'maximum_nights',\n",
      "       'review_scores_rating', 'review_scores_accuracy',\n",
      "       'review_scores_cleanliness', 'review_scores_checkin',\n",
      "       'review_scores_communication', 'review_scores_location',\n",
      "       'review_scores_value', 'instant_bookable'],\n",
      "      dtype='object')\n"
     ]
    }
   ],
   "source": [
    "import pandas as pd\n",
    "\n",
    "# Cargar el archivo CSV\n",
    "file_path = \"Combined_Dataset.csv\"\n",
    "data = pd.read_csv(file_path, delimiter=';')\n",
    "\n",
    "# Mostrar las columnas disponibles en el DataFrame\n",
    "print(\"Columnas disponibles:\", data.columns)"
   ]
  },
  {
   "cell_type": "markdown",
   "id": "0e341af0",
   "metadata": {},
   "source": [
    "Tipo de Dato de cada Columna"
   ]
  },
  {
   "cell_type": "code",
   "execution_count": 3,
   "id": "58fa8708",
   "metadata": {},
   "outputs": [
    {
     "name": "stdout",
     "output_type": "stream",
     "text": [
      "\n",
      "Tipos de datos de cada columna:\n",
      "listing_id                       int64\n",
      "review_id                        int64\n",
      "date                            object\n",
      "reviewer_id                      int64\n",
      "name                            object\n",
      "host_id                          int64\n",
      "host_since                      object\n",
      "host_location                   object\n",
      "host_response_time              object\n",
      "host_response_rate             float64\n",
      "host_acceptance_rate           float64\n",
      "host_is_superhost               object\n",
      "host_total_listings_count      float64\n",
      "host_has_profile_pic            object\n",
      "host_identity_verified          object\n",
      "neighbourhood                   object\n",
      "district                        object\n",
      "city                            object\n",
      "latitude                         int64\n",
      "longitude                        int64\n",
      "property_type                   object\n",
      "room_type                       object\n",
      "accommodates                     int64\n",
      "bedrooms                       float64\n",
      "amenities                       object\n",
      "price                            int64\n",
      "minimum_nights                   int64\n",
      "maximum_nights                   int64\n",
      "review_scores_rating           float64\n",
      "review_scores_accuracy         float64\n",
      "review_scores_cleanliness      float64\n",
      "review_scores_checkin          float64\n",
      "review_scores_communication    float64\n",
      "review_scores_location         float64\n",
      "review_scores_value            float64\n",
      "instant_bookable                object\n",
      "dtype: object\n"
     ]
    }
   ],
   "source": [
    "# Mostrar el tipo de dato de cada columna\n",
    "print(\"\\nTipos de datos de cada columna:\")\n",
    "print(data.dtypes)"
   ]
  },
  {
   "cell_type": "markdown",
   "id": "2e93b5e9",
   "metadata": {},
   "source": [
    "Nulos y Vacios por columna"
   ]
  },
  {
   "cell_type": "code",
   "execution_count": 4,
   "id": "6cf5571a",
   "metadata": {},
   "outputs": [
    {
     "name": "stdout",
     "output_type": "stream",
     "text": [
      "\n",
      "Cantidad de valores nulos y vacíos por columna:\n",
      "listing_id                           0\n",
      "review_id                            0\n",
      "date                                 0\n",
      "reviewer_id                          0\n",
      "name                               333\n",
      "host_id                              0\n",
      "host_since                        3939\n",
      "host_location                     7910\n",
      "host_response_time             1475633\n",
      "host_response_rate             1475633\n",
      "host_acceptance_rate            748437\n",
      "host_is_superhost                 3939\n",
      "host_total_listings_count         3939\n",
      "host_has_profile_pic              3939\n",
      "host_identity_verified            3939\n",
      "neighbourhood                        0\n",
      "district                       4525416\n",
      "city                                 0\n",
      "latitude                             0\n",
      "longitude                            0\n",
      "property_type                        0\n",
      "room_type                            0\n",
      "accommodates                         0\n",
      "bedrooms                        541413\n",
      "amenities                            0\n",
      "price                                0\n",
      "minimum_nights                       0\n",
      "maximum_nights                       0\n",
      "review_scores_rating              6105\n",
      "review_scores_accuracy           39263\n",
      "review_scores_cleanliness        39071\n",
      "review_scores_checkin            39338\n",
      "review_scores_communication      39234\n",
      "review_scores_location           39346\n",
      "review_scores_value              39359\n",
      "instant_bookable                     0\n",
      "dtype: int64\n"
     ]
    }
   ],
   "source": [
    "# Contar la cantidad de valores nulos y vacíos en cada columna\n",
    "print(\"\\nCantidad de valores nulos y vacíos por columna:\")\n",
    "print(data.isna().sum())"
   ]
  },
  {
   "cell_type": "markdown",
   "id": "9494a22e",
   "metadata": {},
   "source": [
    "Revision de \"host_since\""
   ]
  },
  {
   "cell_type": "code",
<<<<<<< HEAD
   "execution_count": 5,
=======
   "execution_count": 2,
>>>>>>> 0ce0e5102d2b3223dbdb47bb848ba402ad473d39
   "id": "79e8d660",
   "metadata": {},
   "outputs": [
    {
     "name": "stderr",
     "output_type": "stream",
     "text": [
<<<<<<< HEAD
      "C:\\Users\\lfabr\\AppData\\Local\\Temp\\ipykernel_4052\\849116340.py:2: UserWarning: Parsing dates in DD/MM/YYYY format when dayfirst=False (the default) was specified. This may lead to inconsistently parsed dates! Specify a format to ensure consistent parsing.\n",
      "  data['host_since'] = pd.to_datetime(data['host_since'], errors='coerce')\n"
=======
      "C:\\Users\\Usuario\\AppData\\Local\\Temp\\ipykernel_17120\\3312805091.py:2: UserWarning: Parsing dates in %d-%m-%Y format when dayfirst=False (the default) was specified. Pass `dayfirst=True` or specify a format to silence this warning.\n",
      "  data['date'] = pd.to_datetime(data['date'], errors='coerce')\n"
>>>>>>> 0ce0e5102d2b3223dbdb47bb848ba402ad473d39
     ]
    },
    {
     "name": "stdout",
     "output_type": "stream",
     "text": [
<<<<<<< HEAD
      "Años registrados en 'host_since': [2008.0, 2009.0, 2010.0, 2011.0, 2012.0, 2013.0, 2014.0, 2018.0, 2019.0, nan, 2015.0, 2016.0, 2017.0, 2020.0, 2021.0]\n"
=======
      "Años registrados en 'date': [np.int32(2008), np.int32(2009), np.int32(2010), np.int32(2011), np.int32(2012), np.int32(2013), np.int32(2014), np.int32(2015), np.int32(2016), np.int32(2017), np.int32(2018), np.int32(2019), np.int32(2020), np.int32(2021)]\n"
>>>>>>> 0ce0e5102d2b3223dbdb47bb848ba402ad473d39
     ]
    }
   ],
   "source": [
    "# Convertir la columna 'date' al formato de fecha\n",
    "data['date'] = pd.to_datetime(data['date'], errors='coerce')\n",
    "\n",
    "# Verificar si la conversión generó valores válidos\n",
    "if data['date'].isna().all():\n",
    "    print(\"Todos los valores en 'date' son inválidos o están vacíos.\")\n",
    "else:\n",
    "    # Extraer los años únicos registrados en la columna 'date'\n",
    "    years = data['date'].dt.year.unique()\n",
    "    print(\"Años registrados en 'date':\", sorted(years))"
   ]
  },
  {
   "cell_type": "code",
<<<<<<< HEAD
   "execution_count": 6,
=======
   "execution_count": 3,
>>>>>>> 0ce0e5102d2b3223dbdb47bb848ba402ad473d39
   "id": "ddf74ff8",
   "metadata": {},
   "outputs": [
    {
     "name": "stdout",
     "output_type": "stream",
     "text": [
<<<<<<< HEAD
      "Cantidad de registros en 2021: 551\n",
      "Cantidad de registros en 2020: 43174\n",
      "Cantidad de registros en 2019: 266883\n",
      "Cantidad de registros en 2018: 375119\n",
      "Cantidad de registros en 2017: 471183\n",
      "Cantidad de registros en 2016: 797260\n",
      "Cantidad de registros en 2015: 981621\n",
      "Cantidad de registros en 2014: 879902\n",
      "Cantidad de registros en 2013: 685288\n"
=======
      "Cantidad de registros en 2021: 82309\n",
      "Cantidad de registros en 2020: 755324\n",
      "Cantidad de registros en 2019: 1633546\n",
      "Cantidad de registros en 2018: 1142496\n",
      "Cantidad de registros en 2017: 777200\n",
      "Cantidad de registros en 2016: 501754\n",
      "Cantidad de registros en 2015: 280332\n",
      "Cantidad de registros en 2014: 122132\n",
      "Cantidad de registros en 2013: 50522\n"
>>>>>>> 0ce0e5102d2b3223dbdb47bb848ba402ad473d39
     ]
    }
   ],
   "source": [
    "# Filtrar los datos por cada año y contar las filas correspondientes\n",
    "for year in [2021 ,2020 ,2019 ,2018, 2017, 2016, 2015, 2014, 2013]:\n",
    "    count = data[data['date'].dt.year == year].shape[0]\n",
    "    print(f\"Cantidad de registros en {year}: {count}\")"
   ]
  },
  {
   "cell_type": "markdown",
   "id": "00f836ca",
   "metadata": {},
   "source": [
    "Correlación"
   ]
  },
  {
   "cell_type": "code",
   "execution_count": 7,
   "id": "2bf4a141",
   "metadata": {},
   "outputs": [
    {
     "ename": "ModuleNotFoundError",
     "evalue": "No module named 'tabulate'",
     "output_type": "error",
     "traceback": [
      "\u001b[1;31m---------------------------------------------------------------------------\u001b[0m",
      "\u001b[1;31mModuleNotFoundError\u001b[0m                       Traceback (most recent call last)",
      "Cell \u001b[1;32mIn[7], line 1\u001b[0m\n\u001b[1;32m----> 1\u001b[0m \u001b[38;5;28;01mfrom\u001b[39;00m\u001b[38;5;250m \u001b[39m\u001b[38;5;21;01mtabulate\u001b[39;00m\u001b[38;5;250m \u001b[39m\u001b[38;5;28;01mimport\u001b[39;00m tabulate\n\u001b[0;32m      3\u001b[0m \u001b[38;5;66;03m# Seleccionar solo las columnas numéricas\u001b[39;00m\n\u001b[0;32m      4\u001b[0m numeric_data \u001b[38;5;241m=\u001b[39m data\u001b[38;5;241m.\u001b[39mselect_dtypes(include\u001b[38;5;241m=\u001b[39m[\u001b[38;5;124m'\u001b[39m\u001b[38;5;124mnumber\u001b[39m\u001b[38;5;124m'\u001b[39m])\n",
      "\u001b[1;31mModuleNotFoundError\u001b[0m: No module named 'tabulate'"
     ]
    }
   ],
   "source": [
    "from tabulate import tabulate\n",
    "\n",
    "# Seleccionar solo las columnas numéricas\n",
    "numeric_data = data.select_dtypes(include=['number'])\n",
    "\n",
    "# Calcular y redondear la matriz de correlación\n",
    "correlation_matrix = numeric_data.corr().round(4)\n",
    "\n",
    "# Dividir las columnas en 3 grupos\n",
    "cols = correlation_matrix.columns\n",
    "n = len(cols)\n",
    "split1 = n // 3\n",
    "split2 = 2 * n // 3\n",
    "\n",
    "group1 = cols[:split1]\n",
    "group2 = cols[split1:split2]\n",
    "group3 = cols[split2:]\n",
    "\n",
    "# Mostrar la primera tabla: todas las filas, solo columnas del grupo 1\n",
    "print(\"Matriz de correlación (Parte 1):\")\n",
    "print(tabulate(correlation_matrix[group1], headers='keys', tablefmt='github'))\n",
    "\n",
    "# Mostrar la segunda tabla: todas las filas, solo columnas del grupo 2\n",
    "print(\"\\nMatriz de correlación (Parte 2):\")\n",
    "print(tabulate(correlation_matrix[group2], headers='keys', tablefmt='github'))\n",
    "\n",
    "# Mostrar la tercera tabla: todas las filas, solo columnas del grupo 3\n",
    "print(\"\\nMatriz de correlación (Parte 3):\")\n",
    "print(tabulate(correlation_matrix[group3], headers='keys', tablefmt='github'))\n",
    "\n",
    "# Guardar cada parte en un CSV separado, delimitado por ;\n",
    "correlation_matrix[group1].to_csv(\"correlation_matrix_part1.csv\", sep=';')\n",
    "correlation_matrix[group2].to_csv(\"correlation_matrix_part2.csv\", sep=';')\n",
    "correlation_matrix[group3].to_csv(\"correlation_matrix_part3.csv\", sep=';')\n",
    "\n",
    "# Guardar la matriz de correlación completa\n",
    "correlation_matrix.to_csv(\"correlation_matrix_total.csv\", sep=';')"
   ]
  },
  {
   "cell_type": "code",
   "execution_count": null,
   "id": "d292ab34",
   "metadata": {},
   "outputs": [
    {
     "name": "stdout",
     "output_type": "stream",
     "text": [
      "| Nombre del campo            |   Cantidad de nulos | Cantidad de vacios   |\n",
      "|-----------------------------|---------------------|----------------------|\n",
      "| listing_id                  |                   0 |                      |\n",
      "| review_id                   |                   0 |                      |\n",
      "| date                        |                   0 | 0                    |\n",
      "| reviewer_id                 |                   0 |                      |\n",
      "| name                        |                 333 | 0                    |\n",
      "| host_id                     |                   0 |                      |\n",
      "| host_since                  |             3214366 |                      |\n",
      "| host_location               |                7910 | 0                    |\n",
      "| host_response_time          |             1475633 | 0                    |\n",
      "| host_response_rate          |             1475633 |                      |\n",
      "| host_acceptance_rate        |              748437 |                      |\n",
      "| host_is_superhost           |                3939 | 0                    |\n",
      "| host_total_listings_count   |                3939 |                      |\n",
      "| host_has_profile_pic        |                3939 | 0                    |\n",
      "| host_identity_verified      |                3939 | 0                    |\n",
      "| neighbourhood               |                   0 | 0                    |\n",
      "| district                    |             4525416 | 0                    |\n",
      "| city                        |                   0 | 0                    |\n",
      "| latitude                    |                   0 |                      |\n",
      "| longitude                   |                   0 |                      |\n",
      "| property_type               |                   0 | 0                    |\n",
      "| room_type                   |                   0 | 0                    |\n",
      "| accommodates                |                   0 |                      |\n",
      "| bedrooms                    |              541413 |                      |\n",
      "| amenities                   |                   0 | 0                    |\n",
      "| price                       |                   0 |                      |\n",
      "| minimum_nights              |                   0 |                      |\n",
      "| maximum_nights              |                   0 |                      |\n",
      "| review_scores_rating        |                6105 |                      |\n",
      "| review_scores_accuracy      |               39263 |                      |\n",
      "| review_scores_cleanliness   |               39071 |                      |\n",
      "| review_scores_checkin       |               39338 |                      |\n",
      "| review_scores_communication |               39234 |                      |\n",
      "| review_scores_location      |               39346 |                      |\n",
      "| review_scores_value         |               39359 |                      |\n",
      "| instant_bookable            |                   0 | 0                    |\n"
     ]
    }
   ],
   "source": [
    "import pandas as pd\n",
    "from tabulate import tabulate\n",
    "\n",
    "# Evitar notación científica en pandas\n",
    "pd.set_option('display.float_format', '{:,.0f}'.format)\n",
    "\n",
    "# Lista de campos en el orden solicitado\n",
    "fields = [\n",
    "    \"listing_id\", \"review_id\", \"date\", \"reviewer_id\", \"name\", \"host_id\", \"host_since\", \"host_location\",\n",
    "    \"host_response_time\", \"host_response_rate\", \"host_acceptance_rate\", \"host_is_superhost\",\n",
    "    \"host_total_listings_count\", \"host_has_profile_pic\", \"host_identity_verified\", \"neighbourhood\",\n",
    "    \"district\", \"city\", \"latitude\", \"longitude\", \"property_type\", \"room_type\", \"accommodates\",\n",
    "    \"bedrooms\", \"amenities\", \"price\", \"minimum_nights\", \"maximum_nights\", \"review_scores_rating\",\n",
    "    \"review_scores_accuracy\", \"review_scores_cleanliness\", \"review_scores_checkin\",\n",
    "    \"review_scores_communication\", \"review_scores_location\", \"review_scores_value\", \"instant_bookable\"\n",
    "]\n",
    "\n",
    "# Crear la tabla de resultados\n",
    "results = []\n",
    "for col in fields:\n",
    "    nulos = int(data[col].isna().sum()) if col in data.columns else \"\"\n",
    "    vacios = int((data[col] == '').sum()) if col in data.columns and data[col].dtype == object else \"\"\n",
    "    results.append([col, nulos, vacios])\n",
    "\n",
    "# Imprimir la tabla\n",
    "print(tabulate(results, headers=[\"Nombre del campo\", \"Cantidad de nulos\", \"Cantidad de vacios\"], tablefmt=\"github\"))"
   ]
  },
  {
   "cell_type": "code",
   "execution_count": 9,
   "id": "72115834",
   "metadata": {},
   "outputs": [
    {
     "name": "stderr",
     "output_type": "stream",
     "text": [
      "C:\\Users\\lfabr\\AppData\\Local\\Temp\\ipykernel_4052\\498678364.py:5: DtypeWarning: Columns (16) have mixed types. Specify dtype option on import or set low_memory=False.\n",
      "  data = pd.read_csv(file_path, delimiter=';')\n"
     ]
    },
    {
     "name": "stdout",
     "output_type": "stream",
     "text": [
      "Missing Values:\n",
      "host_location    7910\n",
      "city                0\n",
      "dtype: int64\n",
      "\n",
      "Percentage of properties where the city matches the host location: 78.56%\n",
      "\n",
      "Counts of Matches and Non-Matches:\n",
      "True     4221364\n",
      "False    1151779\n",
      "Name: city_in_host_location, dtype: int64\n"
     ]
    }
   ],
   "source": [
    "import pandas as pd\n",
    "\n",
    "# Load the dataset\n",
    "file_path = \"../../AirBnB_V2/0_Dataset/Combined_Dataset.csv\"\n",
    "data = pd.read_csv(file_path, delimiter=';')\n",
    "\n",
    "# Check for missing values in 'host_location' and 'city'\n",
    "print(\"Missing Values:\")\n",
    "print(data[['host_location', 'city']].isnull().sum())\n",
    "\n",
    "# Create a new column to check if the city is in the host_location\n",
    "data['city_in_host_location'] = data.apply(\n",
    "    lambda row: row['city'].lower() in row['host_location'].lower() \n",
    "    if pd.notnull(row['host_location']) and pd.notnull(row['city']) else False,\n",
    "    axis=1\n",
    ")\n",
    "\n",
    "# Calculate the percentage of matches\n",
    "match_percentage = data['city_in_host_location'].mean() * 100\n",
    "print(f\"\\nPercentage of properties where the city matches the host location: {match_percentage:.2f}%\")\n",
    "\n",
    "# Group by 'city_in_host_location' to see counts\n",
    "print(\"\\nCounts of Matches and Non-Matches:\")\n",
    "print(data['city_in_host_location'].value_counts())\n",
    "\n",
    "# Optional: Save the updated DataFrame to a new CSV file\n",
    "data.to_csv('updated_airbnb_data_with_city_match.csv', index=False)"
   ]
  }
 ],
 "metadata": {
  "kernelspec": {
   "display_name": "Python 3",
   "language": "python",
   "name": "python3"
  },
  "language_info": {
   "codemirror_mode": {
    "name": "ipython",
    "version": 3
   },
   "file_extension": ".py",
   "mimetype": "text/x-python",
   "name": "python",
   "nbconvert_exporter": "python",
   "pygments_lexer": "ipython3",
   "version": "3.10.7"
  }
 },
 "nbformat": 4,
 "nbformat_minor": 5
}
